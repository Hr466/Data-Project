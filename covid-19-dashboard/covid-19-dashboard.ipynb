{
 "cells": [
  {
   "cell_type": "markdown",
   "metadata": {},
   "source": [
    "Created by: [SmirkyGraphs](https://smirkygraphs.github.io/). Code: [Github](https://github.com/SmirkyGraphs/Python-Notebooks). Source: [Johns Hopkins CSSE](https://www.arcgis.com/apps/opsdashboard/index.html#/bda7594740fd40299423467b48e9ecf6).\n",
    "<hr>"
   ]
  },
  {
   "cell_type": "markdown",
   "metadata": {},
   "source": [
    "# Coronavirus COVID-19 Cases Worldwide\n",
    "\n",
    "This Notebook code uses Pandas to extract the most recent data from the Johns Hopkins github repo on deaths, confirmed cases and recovered cases on the Coronavirus outbreak. The code un-pivots the data merges the 3 datasets together and adds a state columns for the United States. The final dataset is used to create a Tableau dashboard seen [here](https://public.tableau.com/profile/smirkygraphs#!/vizhome/CoronavirusCOVID-19CasesWorldwide_15837525063670/covid-19).\n",
    "<hr>"
   ]
  },
  {
   "cell_type": "code",
   "execution_count": 1,
   "metadata": {},
   "outputs": [],
   "source": [
    "import json\n",
    "import pandas as pd"
   ]
  },
  {
   "cell_type": "code",
   "execution_count": 2,
   "metadata": {},
   "outputs": [],
   "source": [
    "with open('urls.json', 'r') as f:\n",
    "    urls = json.load(f)\n",
    "    confirmed = urls['confirmed']\n",
    "    recovered = urls['recovered']\n",
    "    deaths = urls['deaths']"
   ]
  },
  {
   "cell_type": "code",
   "execution_count": 3,
   "metadata": {},
   "outputs": [],
   "source": [
    "# load 3 datasets\n",
    "deaths = pd.read_csv(deaths)\n",
    "confirmed = pd.read_csv(confirmed)\n",
    "recovered = pd.read_csv(recovered)"
   ]
  },
  {
   "cell_type": "code",
   "execution_count": 4,
   "metadata": {},
   "outputs": [],
   "source": [
    "# merge 3 datasets\n",
    "cols = ['Province/State', 'Country/Region', 'Lat', 'Long']\n",
    "deaths = deaths.melt(cols, var_name='date', value_name='deaths')\n",
    "confirmed = confirmed.melt(cols, var_name='date', value_name='confirmed')\n",
    "recovered = recovered.melt(cols, var_name='date', value_name='recovered')\n",
    "\n",
    "df = confirmed.merge(deaths).merge(recovered)"
   ]
  },
  {
   "cell_type": "code",
   "execution_count": 5,
   "metadata": {},
   "outputs": [],
   "source": [
    "# add state for US\n",
    "df['Province/State'] = df['Province/State'].str.strip()\n",
    "df.loc[df['Country/Region']=='US', 'state'] = df['Province/State'].apply(lambda x: str(x).split(', ')[-1:][0])"
   ]
  },
  {
   "cell_type": "code",
   "execution_count": 6,
   "metadata": {},
   "outputs": [],
   "source": [
    "# export file\n",
    "df.to_csv('./covid-19.csv', index=False)"
   ]
  }
 ],
 "metadata": {
  "kernelspec": {
   "display_name": "Python 3",
   "language": "python",
   "name": "python3"
  },
  "language_info": {
   "codemirror_mode": {
    "name": "ipython",
    "version": 3
   },
   "file_extension": ".py",
   "mimetype": "text/x-python",
   "name": "python",
   "nbconvert_exporter": "python",
   "pygments_lexer": "ipython3",
   "version": "3.6.5"
  }
 },
 "nbformat": 4,
 "nbformat_minor": 2
}
