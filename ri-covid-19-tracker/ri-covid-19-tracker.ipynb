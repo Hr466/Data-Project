{
 "cells": [
  {
   "cell_type": "markdown",
   "metadata": {},
   "source": [
    "Created by [SmirkyGraphs](http://smirkygraphs.github.io/). Code: [GitHub](https://github.com/SmirkyGraphs/Python-Notebooks). Source: [RIDOH](https://health.ri.gov/data/covid-19/)."
   ]
  },
  {
   "cell_type": "markdown",
   "metadata": {},
   "source": [
    "# RI Coronavirus COVID-19 Cases\n",
    "\n",
    "Rhode Island's Dept. of Health started releasing information regarding testing for coronavirus on their website. This information contains the following: Number of Rhode Island COVID-19 positive and presumptive positive cases, number of people who had negative test results at RIDOH's State Health Laboratory, number of pending test results, and approximate number of people who are currently instructed to self-quarantine in Rhode Island.\n",
    "\n",
    "link to daily raw data: [here](https://github.com/SmirkyGraphs/Python-Notebooks/blob/master/ri-covid-19-tracker/data/raw/ri-covid-19.csv)<br>\n",
    "link to final clean data: [here](https://github.com/SmirkyGraphs/Python-Notebooks/blob/master/ri-covid-19-tracker/data/clean/ri-covid-19-clean.csv)"
   ]
  },
  {
   "cell_type": "code",
   "execution_count": 1,
   "metadata": {},
   "outputs": [],
   "source": [
    "import json\n",
    "import pandas as pd\n",
    "from pathlib import Path"
   ]
  },
  {
   "cell_type": "code",
   "execution_count": 2,
   "metadata": {},
   "outputs": [],
   "source": [
    "# load url and name remapper\n",
    "with open('./config.json') as info:\n",
    "    data = json.load(info)\n",
    "    url = data['url']"
   ]
  },
  {
   "cell_type": "code",
   "execution_count": 3,
   "metadata": {},
   "outputs": [],
   "source": [
    "# load data from RI - DOH spreadsheet\n",
    "df = pd.read_csv(url)\n",
    "\n",
    "# transform data into table\n",
    "df['date'] = list(df)[0].split(': ')[-1:][0].strip()\n",
    "df.columns = ['metric', 'count', 'date']"
   ]
  },
  {
   "cell_type": "code",
   "execution_count": 4,
   "metadata": {},
   "outputs": [],
   "source": [
    "# save/update file\n",
    "if not Path('./data/raw/ri-covid-19.csv').exists():\n",
    "    df.to_csv('./data/raw/ri-covid-19.csv', index=False)\n",
    "else:\n",
    "    df.to_csv('./data/raw/ri-covid-19.csv', mode='a', header=False, index=False)"
   ]
  },
  {
   "cell_type": "code",
   "execution_count": 5,
   "metadata": {},
   "outputs": [],
   "source": [
    "# load raw data\n",
    "df = pd.read_csv('./data/raw/ri-covid-19.csv')\n",
    "\n",
    "# re name metrics to shorten them\n",
    "df.loc[df['metric'].str.contains('positive'), 'metric'] = 'RI positive cases'\n",
    "df.loc[df['metric'].str.contains('negative'), 'metric'] = 'RI negative results'\n",
    "df.loc[df['metric'].str.contains('pending'), 'metric'] = 'RI pending tests'\n",
    "df.loc[df['metric'].str.contains('self-quarantine'), 'metric'] = 'instructed to self-quarantine'\n",
    "\n",
    "# clean data and get daily changes\n",
    "df['new_cases'] = df.groupby('metric')['count'].diff()\n",
    "df['change_%'] = df.groupby('metric')['count'].pct_change()\n",
    "\n",
    "# export clean file\n",
    "df.to_csv('./data/clean/ri-covid-19-clean.csv', index=False)"
   ]
  }
 ],
 "metadata": {
  "kernelspec": {
   "display_name": "Python 3",
   "language": "python",
   "name": "python3"
  },
  "language_info": {
   "codemirror_mode": {
    "name": "ipython",
    "version": 3
   },
   "file_extension": ".py",
   "mimetype": "text/x-python",
   "name": "python",
   "nbconvert_exporter": "python",
   "pygments_lexer": "ipython3",
   "version": "3.6.5"
  }
 },
 "nbformat": 4,
 "nbformat_minor": 2
}
