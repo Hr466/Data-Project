{
 "cells": [
  {
   "cell_type": "markdown",
   "metadata": {},
   "source": [
    "Created by: [SmirkyGraphs](https://smirkygraphs.github.io/). Code: [Github](https://github.com/SmirkyGraphs/Python-Notebooks). Source: [BOE](http://www.elections.ri.gov/fines/).\n",
    "<hr>"
   ]
  },
  {
   "cell_type": "markdown",
   "metadata": {},
   "source": [
    "# Cleaning Campaign Finance Fines"
   ]
  },
  {
   "cell_type": "markdown",
   "metadata": {},
   "source": [
    "This notebook uses tabula-py to read data from the pdf files and merge them all into 1 dataset. The data is then cleaned using pandas to add the date, covert total into a number format and normalize some naming of candidates. Lastly, dates are converted from Month_Year to a datetime and the data is saved."
   ]
  },
  {
   "cell_type": "code",
   "execution_count": 1,
   "metadata": {},
   "outputs": [],
   "source": [
    "import pandas as pd\n",
    "import glob as glob\n",
    "from tabula import read_pdf\n",
    "from datetime import datetime"
   ]
  },
  {
   "cell_type": "code",
   "execution_count": 2,
   "metadata": {},
   "outputs": [],
   "source": [
    "files = glob.glob('./data/raw/*.pdf')\n",
    "\n",
    "# February_2018 and June_2019 cause errors in the data so we'll add them manually\n",
    "remove = ['./data/raw\\\\February_2018.pdf', './data/raw\\\\June_2019.pdf']\n",
    "files = [x for x in files if x not in remove]"
   ]
  },
  {
   "cell_type": "code",
   "execution_count": 3,
   "metadata": {
    "scrolled": false
   },
   "outputs": [],
   "source": [
    "# read in all files and create a dataframe\n",
    "\n",
    "frames = []\n",
    "for file in files:\n",
    "    # read pdf into dataframe\n",
    "    df = read_pdf(file, pages=\"all\")\n",
    "    \n",
    "    # skip total row\n",
    "    df = df[:-1]\n",
    "    \n",
    "    # add filename\n",
    "    df['date'] = file[11:-4]\n",
    "    \n",
    "    # add file to frames\n",
    "    frames.append(df)\n",
    "\n",
    "df = pd.concat(frames, sort=True)"
   ]
  },
  {
   "cell_type": "code",
   "execution_count": 4,
   "metadata": {},
   "outputs": [],
   "source": [
    "# add 3 manually collected months\n",
    "df2 = pd.read_csv('./data/files/February_2018.csv')\n",
    "df3 = pd.read_csv('./data/files/June_2019.csv')\n",
    "df4 = pd.read_csv('./data/files/September_2019.csv')\n",
    "\n",
    "df = df.append([df2, df3, df4], sort=True)"
   ]
  },
  {
   "cell_type": "code",
   "execution_count": 5,
   "metadata": {},
   "outputs": [],
   "source": [
    "# spacing in some of the pdfs cause issues in column alignment\n",
    "df['Name'] = df['Name'].fillna(df['October 2011 Aging'])\n",
    "df['Total'] = df['Total'].fillna(df['Unnamed: 1'])"
   ]
  },
  {
   "cell_type": "code",
   "execution_count": 7,
   "metadata": {},
   "outputs": [],
   "source": [
    "# remove error row\n",
    "df = df[df['Name'] != 'Name']\n",
    "\n",
    "# remove nulls (row spaces)\n",
    "df = df[df['Name'].notnull()]\n",
    "\n",
    "# convert to uppercase\n",
    "df['Name'] = df['Name'].str.upper()\n",
    "\n",
    "# remove periods and extra spaces\n",
    "df['Name'] = df['Name'].str.replace('.', '')\n",
    "df['Name'] = df['Name'].str.strip()\n",
    "\n",
    "# remove string type numbers\n",
    "df['Total'] = df['Total'].str.replace(r\"[a-zA-Z]\",'')\n",
    "df['Total'] = df['Total'].str.replace(r\"[!@#$%^&*(),]\",'')\n",
    "df['Total'] = df['Total'].str.strip()\n",
    "\n",
    "# convert to float\n",
    "df['Total'] = df['Total'].astype(float)"
   ]
  },
  {
   "cell_type": "code",
   "execution_count": 8,
   "metadata": {},
   "outputs": [],
   "source": [
    "# fix naming errors\n",
    "df.loc[df['Name'].str.contains('CCRI PSA PAC'), 'Name'] = 'CCRI PSA PAC'\n",
    "df.loc[df['Name'].str.contains('IBEW LOCAL 2323 PAC'), 'Name'] = 'IBEW LOCAL 2323 PAC'\n",
    "df.loc[df['Name'].str.contains('POLICE OFFICERS LOCAL'), 'Name'] = 'INTERNATIONAL BROTHERHOOD OF POLICE OFFICERS LOCAL 301'\n",
    "df.loc[df['Name'].str.contains('POLICE & FIREFIGHTERS ASSOCIATIO'), 'Name'] = 'PROVIDENCE RETIRED POLICE & FIREFIGHTERS ASSOCIATION'\n",
    "df.loc[df['Name'].str.contains('RI ASSOCIATION FOR JUSTICE PAC'), 'Name'] = 'RI ASSOCIATION FOR JUSTICE PAC'"
   ]
  },
  {
   "cell_type": "code",
   "execution_count": 9,
   "metadata": {},
   "outputs": [],
   "source": [
    "# keep only wanted columns\n",
    "cols = ['Name', 'Total', 'date']\n",
    "df = df[cols]"
   ]
  },
  {
   "cell_type": "code",
   "execution_count": 10,
   "metadata": {},
   "outputs": [],
   "source": [
    "# convert date (month_year)\n",
    "df['date'] = df['date'].apply(lambda x: datetime.strptime(x, '%B_%Y'))"
   ]
  },
  {
   "cell_type": "code",
   "execution_count": 11,
   "metadata": {},
   "outputs": [],
   "source": [
    "# save file\n",
    "df.to_csv('./data/clean/ri_campaign_fines_clean.csv', index=False)"
   ]
  }
 ],
 "metadata": {
  "kernelspec": {
   "display_name": "Python 3",
   "language": "python",
   "name": "python3"
  },
  "language_info": {
   "codemirror_mode": {
    "name": "ipython",
    "version": 3
   },
   "file_extension": ".py",
   "mimetype": "text/x-python",
   "name": "python",
   "nbconvert_exporter": "python",
   "pygments_lexer": "ipython3",
   "version": "3.6.5"
  }
 },
 "nbformat": 4,
 "nbformat_minor": 2
}
