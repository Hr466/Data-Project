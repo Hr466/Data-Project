{
 "cells": [
  {
   "cell_type": "markdown",
   "metadata": {},
   "source": [
    "Created by: [SmirkyGraphs](https://smirkygraphs.github.io/). Code: [Github](https://github.com/SmirkyGraphs/Python-Notebooks). Source: [BOE](http://www.elections.ri.gov/fines/).\n",
    "<hr>"
   ]
  },
  {
   "cell_type": "markdown",
   "metadata": {},
   "source": [
    "# Scraping RI Campaign Finance Fine PDF's"
   ]
  },
  {
   "cell_type": "markdown",
   "metadata": {},
   "source": [
    "This notebook is used to download all of the pdf's from Rhode Island Board of Elections site."
   ]
  },
  {
   "cell_type": "code",
   "execution_count": 1,
   "metadata": {},
   "outputs": [],
   "source": [
    "import time\n",
    "import requests\n",
    "from bs4 import BeautifulSoup"
   ]
  },
  {
   "cell_type": "code",
   "execution_count": 2,
   "metadata": {},
   "outputs": [],
   "source": [
    "# get list of fine pdf urls\n",
    "url = 'http://www.elections.ri.gov/fines/'\n",
    "r = requests.get(url)\n",
    "soup = BeautifulSoup(r.content, 'lxml')\n",
    "\n",
    "url_list = soup.find_all('ul')[7]\n",
    "url_list = url_list.find_all('a')\n",
    "\n",
    "data = {}\n",
    "for url in url_list:\n",
    "    date = url.text.strip().replace(' ', '_')\n",
    "    data[f'{date}'] = url['href'][3:]"
   ]
  },
  {
   "cell_type": "code",
   "execution_count": 3,
   "metadata": {},
   "outputs": [],
   "source": [
    "# download each pdf and save it\n",
    "base_url = 'http://www.elections.ri.gov/'\n",
    "\n",
    "for file_name, url in data.items():\n",
    "    file_name = f\"./data/raw/{file_name}.pdf\"\n",
    "    \n",
    "    url = base_url + url\n",
    "    r = requests.get(url)\n",
    "    \n",
    "    with open(file_name, 'wb') as f:\n",
    "        f.write(r.content)"
   ]
  }
 ],
 "metadata": {
  "kernelspec": {
   "display_name": "Python 3",
   "language": "python",
   "name": "python3"
  },
  "language_info": {
   "codemirror_mode": {
    "name": "ipython",
    "version": 3
   },
   "file_extension": ".py",
   "mimetype": "text/x-python",
   "name": "python",
   "nbconvert_exporter": "python",
   "pygments_lexer": "ipython3",
   "version": "3.6.5"
  }
 },
 "nbformat": 4,
 "nbformat_minor": 2
}
