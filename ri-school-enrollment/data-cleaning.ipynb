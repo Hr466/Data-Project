{
 "cells": [
  {
   "cell_type": "markdown",
   "metadata": {},
   "source": [
    "Created by: [SmirkyGraphs](https://smirkygraphs.github.io/). Code: [Github](https://github.com/SmirkyGraphs/Python-Notebooks). Source: [RIDE](http://www.eride.ri.gov/reports/reports.asp).\n",
    "<hr>"
   ]
  },
  {
   "cell_type": "markdown",
   "metadata": {},
   "source": [
    "# Rhode Island School Enrollment Metrics\n",
    "\n",
    "This Notebook code uses pandas to clean the data collected from the scraper. The data removes the total row, decodes gender variables, adds year and maps district region. The \"district region\" is mapped from the same coding used in the UCOA data. Some data is surpressed due to small-number policy of RIDE, however this was only the case as of 2019.\n",
    "<hr>"
   ]
  },
  {
   "cell_type": "code",
   "execution_count": 1,
   "metadata": {},
   "outputs": [],
   "source": [
    "from pathlib import Path\n",
    "import pandas as pd\n",
    "import numpy as np\n",
    "import csv"
   ]
  },
  {
   "cell_type": "code",
   "execution_count": 2,
   "metadata": {},
   "outputs": [],
   "source": [
    "# creating region dict and mapping region\n",
    "region_map = dict(csv.reader(open(\"./data/files/region_map csv\")))"
   ]
  },
  {
   "cell_type": "code",
   "execution_count": 3,
   "metadata": {},
   "outputs": [],
   "source": [
    "def clean_data(id_vars, df):\n",
    "    # removing Total rows\n",
    "    df = df[df['grade'] != 'TO']\n",
    "\n",
    "    # unpivoting\n",
    "    df = df.melt(id_vars)\n",
    "    \n",
    "    # creating gender column\n",
    "    df.loc[df['variable'].str.endswith('m'), 'gender'] = 'male'\n",
    "    df.loc[df['variable'].str.endswith('f'), 'gender'] = 'female'\n",
    "    df.loc[df['variable'].str.endswith('m'), 'variable'] = df['variable'].str[:-2]\n",
    "    df.loc[df['variable'].str.endswith('f'), 'variable'] = df['variable'].str[:-2]\n",
    "    \n",
    "    # fill nulls\n",
    "    df = df.fillna('n/a')\n",
    "    \n",
    "    # map region\n",
    "    df['region'] = df['district'].map(region_map)\n",
    "    \n",
    "    return df\n",
    "\n",
    "def merge_files(files, id_vars):\n",
    "    frames = []\n",
    "    for file in files:\n",
    "        df = pd.read_csv(file)\n",
    "        df = clean_data(id_vars, df)\n",
    "        frames.append(df)\n",
    "    df = pd.concat(frames)\n",
    "    \n",
    "    # fix years\n",
    "    df['year'] = df['year'].str[:-3]\n",
    "    \n",
    "    return df"
   ]
  },
  {
   "cell_type": "code",
   "execution_count": 4,
   "metadata": {},
   "outputs": [],
   "source": [
    "# school-level data\n",
    "files = list(Path('./data/raw/school_level/enrollment/').glob('*.csv'))\n",
    "id_vars = ['year', 'grade', 'district', 'school']\n",
    "\n",
    "enrollments = merge_files(files, id_vars)\n",
    "enrollments.to_csv('./data/clean/school_level/enrollments.csv', index=False)"
   ]
  },
  {
   "cell_type": "code",
   "execution_count": 5,
   "metadata": {},
   "outputs": [],
   "source": [
    "# district-level data\n",
    "files = list(Path('./data/raw/district_level/enrollment/').glob('*.csv'))\n",
    "id_vars = ['year', 'grade', 'district']\n",
    "\n",
    "enrollments = merge_files(files, id_vars)\n",
    "enrollments.to_csv('./data/clean/district_level/enrollments.csv', index=False)"
   ]
  }
 ],
 "metadata": {
  "kernelspec": {
   "display_name": "Python 3",
   "language": "python",
   "name": "python3"
  },
  "language_info": {
   "codemirror_mode": {
    "name": "ipython",
    "version": 3
   },
   "file_extension": ".py",
   "mimetype": "text/x-python",
   "name": "python",
   "nbconvert_exporter": "python",
   "pygments_lexer": "ipython3",
   "version": "3.6.5"
  }
 },
 "nbformat": 4,
 "nbformat_minor": 2
}
