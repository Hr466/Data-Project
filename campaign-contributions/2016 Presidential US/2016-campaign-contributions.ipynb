{
 "cells": [
  {
   "cell_type": "markdown",
   "metadata": {},
   "source": [
    "# 2016 Election Campaign Contributions\n",
    "##### SmirkyGraphs -  [Website](https://smirkygraphs.github.io/) - [Github](https://github.com/SmirkyGraphs/Python-Notebooks)\n",
    "<hr>"
   ]
  },
  {
   "cell_type": "code",
   "execution_count": 1,
   "metadata": {},
   "outputs": [],
   "source": [
    "# For data\n",
    "import pandas as pd\n",
    "from pandas import Series,DataFrame\n",
    "import numpy as np\n",
    "\n",
    "# For visualization\n",
    "import matplotlib.pyplot as plt\n",
    "import seaborn as sns\n",
    "sns.set_style('darkgrid')\n",
    "%matplotlib inline\n",
    "\n",
    "from __future__ import division\n",
    "import datetime\n",
    "\n",
    "#use to get info from web\n",
    "import requests\n",
    "\n",
    "#stringIO to work with csv\n",
    "from StringIO import StringIO"
   ]
  },
  {
   "cell_type": "code",
   "execution_count": 2,
   "metadata": {
    "collapsed": true
   },
   "outputs": [],
   "source": [
    "doner_df = pd.read_csv('Election_Doner_Data.csv', index_col=False, dtype={\n",
    "'cmte_id': object, 'cand_id': object, 'cand_nm': object, 'contbr_nm': object, 'contbr_city': object, 'contbr_st': object, \n",
    "'contbr_zip': object, 'contbr_employer': object, 'contbr_occupation': object, 'contb_receipt_amt': float, \n",
    "'contb_receipt_dt': object, 'receipt_desc': object,'memo_cd': object, 'memo_text': object, 'form_tp': object, \n",
    "'file_num': int, 'tran_id': object, 'election_tp': object})"
   ]
  },
  {
   "cell_type": "code",
   "execution_count": 3,
   "metadata": {},
   "outputs": [
    {
     "name": "stdout",
     "output_type": "stream",
     "text": [
      "<class 'pandas.core.frame.DataFrame'>\n",
      "RangeIndex: 7440252 entries, 0 to 7440251\n",
      "Data columns (total 18 columns):\n",
      "cmte_id              object\n",
      "cand_id              object\n",
      "cand_nm              object\n",
      "contbr_nm            object\n",
      "contbr_city          object\n",
      "contbr_st            object\n",
      "contbr_zip           object\n",
      "contbr_employer      object\n",
      "contbr_occupation    object\n",
      "contb_receipt_amt    float64\n",
      "contb_receipt_dt     object\n",
      "receipt_desc         object\n",
      "memo_cd              object\n",
      "memo_text            object\n",
      "form_tp              object\n",
      "file_num             int32\n",
      "tran_id              object\n",
      "election_tp          object\n",
      "dtypes: float64(1), int32(1), object(16)\n",
      "memory usage: 993.4+ MB\n"
     ]
    }
   ],
   "source": [
    "doner_df.info()"
   ]
  },
  {
   "cell_type": "code",
   "execution_count": 4,
   "metadata": {},
   "outputs": [
    {
     "data": {
      "text/html": [
       "<div>\n",
       "<table border=\"1\" class=\"dataframe\">\n",
       "  <thead>\n",
       "    <tr style=\"text-align: right;\">\n",
       "      <th></th>\n",
       "      <th>cmte_id</th>\n",
       "      <th>cand_id</th>\n",
       "      <th>cand_nm</th>\n",
       "      <th>contbr_nm</th>\n",
       "      <th>contbr_city</th>\n",
       "      <th>contbr_st</th>\n",
       "      <th>contbr_zip</th>\n",
       "      <th>contbr_employer</th>\n",
       "      <th>contbr_occupation</th>\n",
       "      <th>contb_receipt_amt</th>\n",
       "      <th>contb_receipt_dt</th>\n",
       "      <th>receipt_desc</th>\n",
       "      <th>memo_cd</th>\n",
       "      <th>memo_text</th>\n",
       "      <th>form_tp</th>\n",
       "      <th>file_num</th>\n",
       "      <th>tran_id</th>\n",
       "      <th>election_tp</th>\n",
       "    </tr>\n",
       "  </thead>\n",
       "  <tbody>\n",
       "    <tr>\n",
       "      <th>0</th>\n",
       "      <td>C00458844</td>\n",
       "      <td>P60006723</td>\n",
       "      <td>Rubio, Marco</td>\n",
       "      <td>BLUM, MAUREEN</td>\n",
       "      <td>WASHINGTON</td>\n",
       "      <td>20</td>\n",
       "      <td>DC</td>\n",
       "      <td>STRATEGIC COALITIONS &amp; INITIATIVES LL</td>\n",
       "      <td>OUTREACH DIRECTOR</td>\n",
       "      <td>175.0</td>\n",
       "      <td>15-MAR-16</td>\n",
       "      <td>NaN</td>\n",
       "      <td>NaN</td>\n",
       "      <td>NaN</td>\n",
       "      <td>SA17A</td>\n",
       "      <td>1082559</td>\n",
       "      <td>SA17.1152124</td>\n",
       "      <td>P2016</td>\n",
       "    </tr>\n",
       "    <tr>\n",
       "      <th>1</th>\n",
       "      <td>C00458844</td>\n",
       "      <td>P60006723</td>\n",
       "      <td>Rubio, Marco</td>\n",
       "      <td>DODSON, MARK B. MR.</td>\n",
       "      <td>ATLANTA</td>\n",
       "      <td>30</td>\n",
       "      <td>GA</td>\n",
       "      <td>MORTGAGE CAPITAL ADVISORS</td>\n",
       "      <td>PRIVATE MORTGAGE BANKING</td>\n",
       "      <td>25.0</td>\n",
       "      <td>16-MAR-16</td>\n",
       "      <td>NaN</td>\n",
       "      <td>NaN</td>\n",
       "      <td>DEBT RETIREMENT</td>\n",
       "      <td>SA17A</td>\n",
       "      <td>1082559</td>\n",
       "      <td>SA17.1153048</td>\n",
       "      <td>P2016</td>\n",
       "    </tr>\n",
       "    <tr>\n",
       "      <th>2</th>\n",
       "      <td>C00458844</td>\n",
       "      <td>P60006723</td>\n",
       "      <td>Rubio, Marco</td>\n",
       "      <td>CHILDERS, WILLIAM</td>\n",
       "      <td>DPO</td>\n",
       "      <td>AE</td>\n",
       "      <td>098309998</td>\n",
       "      <td>DIPLOMAT</td>\n",
       "      <td>US GOVERNMENT</td>\n",
       "      <td>100.0</td>\n",
       "      <td>20-FEB-16</td>\n",
       "      <td>NaN</td>\n",
       "      <td>NaN</td>\n",
       "      <td>NaN</td>\n",
       "      <td>SA17A</td>\n",
       "      <td>1056862</td>\n",
       "      <td>SA17.1020839</td>\n",
       "      <td>P2016</td>\n",
       "    </tr>\n",
       "    <tr>\n",
       "      <th>3</th>\n",
       "      <td>C00458844</td>\n",
       "      <td>P60006723</td>\n",
       "      <td>Rubio, Marco</td>\n",
       "      <td>RUCINSKI, ROBERT</td>\n",
       "      <td>APO</td>\n",
       "      <td>AE</td>\n",
       "      <td>090960009</td>\n",
       "      <td>US ARMY</td>\n",
       "      <td>PHYSICIAN</td>\n",
       "      <td>200.0</td>\n",
       "      <td>10-MAR-16</td>\n",
       "      <td>NaN</td>\n",
       "      <td>NaN</td>\n",
       "      <td>NaN</td>\n",
       "      <td>SA17A</td>\n",
       "      <td>1082559</td>\n",
       "      <td>SA17.1078677</td>\n",
       "      <td>P2016</td>\n",
       "    </tr>\n",
       "    <tr>\n",
       "      <th>4</th>\n",
       "      <td>C00458844</td>\n",
       "      <td>P60006723</td>\n",
       "      <td>Rubio, Marco</td>\n",
       "      <td>RUCINSKI, ROBERT</td>\n",
       "      <td>APO</td>\n",
       "      <td>AE</td>\n",
       "      <td>090960009</td>\n",
       "      <td>US ARMY</td>\n",
       "      <td>PHYSICIAN</td>\n",
       "      <td>100.0</td>\n",
       "      <td>08-MAR-16</td>\n",
       "      <td>NaN</td>\n",
       "      <td>NaN</td>\n",
       "      <td>NaN</td>\n",
       "      <td>SA17A</td>\n",
       "      <td>1082559</td>\n",
       "      <td>SA17.1074981</td>\n",
       "      <td>P2016</td>\n",
       "    </tr>\n",
       "  </tbody>\n",
       "</table>\n",
       "</div>"
      ],
      "text/plain": [
       "     cmte_id    cand_id       cand_nm            contbr_nm contbr_city  \\\n",
       "0  C00458844  P60006723  Rubio, Marco        BLUM, MAUREEN  WASHINGTON   \n",
       "1  C00458844  P60006723  Rubio, Marco  DODSON, MARK B. MR.     ATLANTA   \n",
       "2  C00458844  P60006723  Rubio, Marco    CHILDERS, WILLIAM         DPO   \n",
       "3  C00458844  P60006723  Rubio, Marco     RUCINSKI, ROBERT         APO   \n",
       "4  C00458844  P60006723  Rubio, Marco     RUCINSKI, ROBERT         APO   \n",
       "\n",
       "  contbr_st contbr_zip                        contbr_employer  \\\n",
       "0        20         DC  STRATEGIC COALITIONS & INITIATIVES LL   \n",
       "1        30         GA              MORTGAGE CAPITAL ADVISORS   \n",
       "2        AE  098309998                               DIPLOMAT   \n",
       "3        AE  090960009                                US ARMY   \n",
       "4        AE  090960009                                US ARMY   \n",
       "\n",
       "          contbr_occupation  contb_receipt_amt contb_receipt_dt receipt_desc  \\\n",
       "0         OUTREACH DIRECTOR              175.0        15-MAR-16          NaN   \n",
       "1  PRIVATE MORTGAGE BANKING               25.0        16-MAR-16          NaN   \n",
       "2             US GOVERNMENT              100.0        20-FEB-16          NaN   \n",
       "3                 PHYSICIAN              200.0        10-MAR-16          NaN   \n",
       "4                 PHYSICIAN              100.0        08-MAR-16          NaN   \n",
       "\n",
       "  memo_cd        memo_text form_tp  file_num       tran_id election_tp  \n",
       "0     NaN              NaN   SA17A   1082559  SA17.1152124       P2016  \n",
       "1     NaN  DEBT RETIREMENT   SA17A   1082559  SA17.1153048       P2016  \n",
       "2     NaN              NaN   SA17A   1056862  SA17.1020839       P2016  \n",
       "3     NaN              NaN   SA17A   1082559  SA17.1078677       P2016  \n",
       "4     NaN              NaN   SA17A   1082559  SA17.1074981       P2016  "
      ]
     },
     "execution_count": 4,
     "metadata": {},
     "output_type": "execute_result"
    }
   ],
   "source": [
    "doner_df.head()"
   ]
  },
  {
   "cell_type": "markdown",
   "metadata": {},
   "source": [
    "#### As we can see there are 7,440,252 rows 18 columns and some null values<br>This gives us some useful info like the canidates name, contributors name, state, zip, eomployer, occupation, ammount and date"
   ]
  },
  {
   "cell_type": "code",
   "execution_count": 5,
   "metadata": {
    "scrolled": false
   },
   "outputs": [
    {
     "data": {
      "text/plain": [
       " 25.00      1051165\n",
       " 50.00       885354\n",
       " 100.00      785577\n",
       " 10.00       637262\n",
       " 5.00        434221\n",
       " 15.00       327665\n",
       " 27.00       313461\n",
       " 250.00      278865\n",
       " 35.00       150087\n",
       " 20.00       142855\n",
       " 200.00      133909\n",
       " 40.00       125064\n",
       " 19.00       120481\n",
       " 500.00      118679\n",
       " 80.00       103486\n",
       " 8.00        102787\n",
       " 75.00        95509\n",
       " 2700.00      90866\n",
       " 28.00        85847\n",
       " 1000.00      83443\n",
       " 3.00         76709\n",
       " 38.00        69111\n",
       " 1.00         57444\n",
       " 30.00        55169\n",
       " 150.00       50352\n",
       " 37.00        39914\n",
       " 400.00       34955\n",
       " 16.00        27659\n",
       " 7.00         25740\n",
       " 300.00       23758\n",
       "             ...   \n",
       " 227.93           1\n",
       "-1564.34          1\n",
       "-8.70             1\n",
       " 102.26           1\n",
       " 102.24           1\n",
       " 9.66             1\n",
       " 420.48           1\n",
       " 183.46           1\n",
       " 225.57           1\n",
       " 1730.00          1\n",
       " 960.56           1\n",
       " 225.82           1\n",
       "-975.44           1\n",
       "-5700.00          1\n",
       " 224.93           1\n",
       "-133.55           1\n",
       "-79.05            1\n",
       " 33.46            1\n",
       " 1732.00          1\n",
       "-530.89           1\n",
       "-742.87           1\n",
       " 225.43           1\n",
       " 91.46            1\n",
       " 426.77           1\n",
       " 97.22            1\n",
       " 91.21            1\n",
       " 1735.00          1\n",
       " 421.98           1\n",
       " 21.08            1\n",
       "-106.13           1\n",
       "Name: contb_receipt_amt, dtype: int64"
      ]
     },
     "execution_count": 5,
     "metadata": {},
     "output_type": "execute_result"
    }
   ],
   "source": [
    "doner_df['contb_receipt_amt'].value_counts()"
   ]
  },
  {
   "cell_type": "markdown",
   "metadata": {},
   "source": [
    "#### The top donation ammount was $25 and donations tend to stick around even values, 5, 10, 25, 50, 100<br><br> We can also see that there are some negitive values, this is because the FEC also tracks Refunds, these can be Excessive Contributions, Illegal Contributions or Prohibited Contributions we don't need those because we only want too see how much a canidate raises"
   ]
  },
  {
   "cell_type": "code",
   "execution_count": 6,
   "metadata": {
    "collapsed": true
   },
   "outputs": [],
   "source": [
    "# removing negitives from our main dataframe\n",
    "doner_df = doner_df[doner_df.contb_receipt_amt > 0]"
   ]
  },
  {
   "cell_type": "markdown",
   "metadata": {},
   "source": [
    "#### Next we will clean up the data a tad by adding party affiliation"
   ]
  },
  {
   "cell_type": "code",
   "execution_count": 7,
   "metadata": {},
   "outputs": [
    {
     "data": {
      "text/plain": [
       "array(['Rubio, Marco', 'Santorum, Richard J.', 'Perry, James R. (Rick)',\n",
       "       'Carson, Benjamin S.', \"Cruz, Rafael Edward 'Ted'\", 'Paul, Rand',\n",
       "       'Clinton, Hillary Rodham', 'Sanders, Bernard', 'Fiorina, Carly',\n",
       "       'Huckabee, Mike', 'Pataki, George E.', \"O'Malley, Martin Joseph\",\n",
       "       'Graham, Lindsey O.', 'Bush, Jeb', 'Trump, Donald J.',\n",
       "       'Jindal, Bobby', 'Christie, Christopher J.', 'Walker, Scott',\n",
       "       'Stein, Jill', 'Webb, James Henry Jr.', 'Kasich, John R.',\n",
       "       'Gilmore, James S III', 'Lessig, Lawrence', 'Johnson, Gary',\n",
       "       'McMullin, Evan'], dtype=object)"
      ]
     },
     "execution_count": 7,
     "metadata": {},
     "output_type": "execute_result"
    }
   ],
   "source": [
    "# Get a list of all canidates\n",
    "canidates = doner_df.cand_nm.unique()\n",
    "canidates"
   ]
  },
  {
   "cell_type": "code",
   "execution_count": 8,
   "metadata": {
    "collapsed": true
   },
   "outputs": [],
   "source": [
    "# dictionary of party affiliation\n",
    "party_map = {'Rubio, Marco': 'Republican',\n",
    "            'Santorum, Richard J.': 'Republican',\n",
    "            'Perry, James R. (Rick)': 'Republican',\n",
    "            'Carson, Benjamin S.': 'Republican',\n",
    "            \"Cruz, Rafael Edward 'Ted'\": 'Republican',\n",
    "            'Paul, Rand': 'Republican',\n",
    "            'Clinton, Hillary Rodham': 'Democrat',\n",
    "            'Sanders, Bernard': 'Democrat',\n",
    "            'Fiorina, Carly': 'Republican',\n",
    "            'Huckabee, Mike': 'Republican',\n",
    "            'Pataki, George E.': 'Republican',\n",
    "            \"O'Malley, Martin Joseph\": 'Democrat',\n",
    "            'Graham, Lindsey O.': 'Republican',\n",
    "            'Bush, Jeb': 'Republican',\n",
    "            'Trump, Donald J.': 'Republican',\n",
    "            'Jindal, Bobby': 'Republican',\n",
    "            'Christie, Christopher J.': 'Republican',\n",
    "            'Walker, Scott': 'Republican',\n",
    "            'Stein, Jill': '3rd Party',\n",
    "            'Webb, James Henry Jr.': 'Democrat',\n",
    "            'Kasich, John R.': 'Republican',\n",
    "            'Gilmore, James S III': 'Republican',\n",
    "            'Lessig, Lawrence': 'Democrat',\n",
    "            'Johnson, Gary': '3rd Party',\n",
    "            'McMullin, Evan': '3rd Party'}\n",
    "\n",
    "# creating a party column and mapping party to canidate\n",
    "doner_df['Party'] = doner_df.cand_nm.map(party_map)"
   ]
  },
  {
   "cell_type": "code",
   "execution_count": 9,
   "metadata": {},
   "outputs": [
    {
     "data": {
      "text/html": [
       "<div>\n",
       "<table border=\"1\" class=\"dataframe\">\n",
       "  <thead>\n",
       "    <tr style=\"text-align: right;\">\n",
       "      <th></th>\n",
       "      <th>cmte_id</th>\n",
       "      <th>cand_id</th>\n",
       "      <th>cand_nm</th>\n",
       "      <th>contbr_nm</th>\n",
       "      <th>contbr_city</th>\n",
       "      <th>contbr_st</th>\n",
       "      <th>contbr_zip</th>\n",
       "      <th>contbr_employer</th>\n",
       "      <th>contbr_occupation</th>\n",
       "      <th>contb_receipt_amt</th>\n",
       "      <th>contb_receipt_dt</th>\n",
       "      <th>receipt_desc</th>\n",
       "      <th>memo_cd</th>\n",
       "      <th>memo_text</th>\n",
       "      <th>form_tp</th>\n",
       "      <th>file_num</th>\n",
       "      <th>tran_id</th>\n",
       "      <th>election_tp</th>\n",
       "      <th>Party</th>\n",
       "    </tr>\n",
       "  </thead>\n",
       "  <tbody>\n",
       "    <tr>\n",
       "      <th>0</th>\n",
       "      <td>C00458844</td>\n",
       "      <td>P60006723</td>\n",
       "      <td>Rubio, Marco</td>\n",
       "      <td>BLUM, MAUREEN</td>\n",
       "      <td>WASHINGTON</td>\n",
       "      <td>20</td>\n",
       "      <td>DC</td>\n",
       "      <td>STRATEGIC COALITIONS &amp; INITIATIVES LL</td>\n",
       "      <td>OUTREACH DIRECTOR</td>\n",
       "      <td>175.0</td>\n",
       "      <td>15-MAR-16</td>\n",
       "      <td>NaN</td>\n",
       "      <td>NaN</td>\n",
       "      <td>NaN</td>\n",
       "      <td>SA17A</td>\n",
       "      <td>1082559</td>\n",
       "      <td>SA17.1152124</td>\n",
       "      <td>P2016</td>\n",
       "      <td>Republican</td>\n",
       "    </tr>\n",
       "  </tbody>\n",
       "</table>\n",
       "</div>"
      ],
      "text/plain": [
       "     cmte_id    cand_id       cand_nm      contbr_nm contbr_city contbr_st  \\\n",
       "0  C00458844  P60006723  Rubio, Marco  BLUM, MAUREEN  WASHINGTON        20   \n",
       "\n",
       "  contbr_zip                        contbr_employer  contbr_occupation  \\\n",
       "0         DC  STRATEGIC COALITIONS & INITIATIVES LL  OUTREACH DIRECTOR   \n",
       "\n",
       "   contb_receipt_amt contb_receipt_dt receipt_desc memo_cd memo_text form_tp  \\\n",
       "0              175.0        15-MAR-16          NaN     NaN       NaN   SA17A   \n",
       "\n",
       "   file_num       tran_id election_tp       Party  \n",
       "0   1082559  SA17.1152124       P2016  Republican  "
      ]
     },
     "execution_count": 9,
     "metadata": {},
     "output_type": "execute_result"
    }
   ],
   "source": [
    "doner_df.head(1)"
   ]
  },
  {
   "cell_type": "code",
   "execution_count": 10,
   "metadata": {
    "scrolled": false
   },
   "outputs": [
    {
     "data": {
      "text/plain": [
       "cand_nm\n",
       "Gilmore, James S III              84\n",
       "Pataki, George E.                343\n",
       "Jindal, Bobby                    761\n",
       "Webb, James Henry Jr.            800\n",
       "Perry, James R. (Rick)           875\n",
       "Lessig, Lawrence                1337\n",
       "Santorum, Richard J.            1675\n",
       "McMullin, Evan                  2569\n",
       "Graham, Lindsey O.              3926\n",
       "O'Malley, Martin Joseph         5250\n",
       "Christie, Christopher J.        5838\n",
       "Huckabee, Mike                  6360\n",
       "Walker, Scott                   6656\n",
       "Stein, Jill                    11014\n",
       "Johnson, Gary                  13400\n",
       "Kasich, John R.                25212\n",
       "Fiorina, Carly                 27536\n",
       "Bush, Jeb                      28038\n",
       "Paul, Rand                     32196\n",
       "Rubio, Marco                   99259\n",
       "Carson, Benjamin S.           244904\n",
       "Cruz, Rafael Edward 'Ted'     541088\n",
       "Trump, Donald J.              762871\n",
       "Sanders, Bernard             2047595\n",
       "Clinton, Hillary Rodham      3471128\n",
       "Name: contb_receipt_amt, dtype: int64"
      ]
     },
     "execution_count": 10,
     "metadata": {},
     "output_type": "execute_result"
    }
   ],
   "source": [
    "# A count of how many donations were to each campaign\n",
    "doner_df.groupby(\"cand_nm\")[\"contb_receipt_amt\"].count().sort_values()"
   ]
  },
  {
   "cell_type": "code",
   "execution_count": 11,
   "metadata": {
    "scrolled": true
   },
   "outputs": [],
   "source": [
    "top_doner = doner_df[['contbr_nm','contb_receipt_amt']].copy()\n",
    "top_doner = top_doner.sort_values(by='contb_receipt_amt',ascending=False)"
   ]
  },
  {
   "cell_type": "code",
   "execution_count": 12,
   "metadata": {},
   "outputs": [
    {
     "data": {
      "text/html": [
       "<div>\n",
       "<table border=\"1\" class=\"dataframe\">\n",
       "  <thead>\n",
       "    <tr style=\"text-align: right;\">\n",
       "      <th></th>\n",
       "      <th>contbr_nm</th>\n",
       "      <th>contb_receipt_amt</th>\n",
       "    </tr>\n",
       "  </thead>\n",
       "  <tbody>\n",
       "    <tr>\n",
       "      <th>3239378</th>\n",
       "      <td>HILLARY VICTORY FUND - UNITEMIZED</td>\n",
       "      <td>12777705.58</td>\n",
       "    </tr>\n",
       "    <tr>\n",
       "      <th>3274161</th>\n",
       "      <td>HILLARY VICTORY FUND - UNITEMIZED</td>\n",
       "      <td>7402361.45</td>\n",
       "    </tr>\n",
       "    <tr>\n",
       "      <th>3224394</th>\n",
       "      <td>HILLARY VICTORY FUND - UNITEMIZED</td>\n",
       "      <td>6358481.89</td>\n",
       "    </tr>\n",
       "    <tr>\n",
       "      <th>3284270</th>\n",
       "      <td>HILLARY VICTORY FUND - UNITEMIZED</td>\n",
       "      <td>4904860.51</td>\n",
       "    </tr>\n",
       "    <tr>\n",
       "      <th>3379521</th>\n",
       "      <td>HILLARY VICTORY FUND - UNITEMIZED</td>\n",
       "      <td>4575438.56</td>\n",
       "    </tr>\n",
       "    <tr>\n",
       "      <th>3447482</th>\n",
       "      <td>HILLARY VICTORY FUND - UNITEMIZED</td>\n",
       "      <td>4560967.14</td>\n",
       "    </tr>\n",
       "    <tr>\n",
       "      <th>3484760</th>\n",
       "      <td>HILLARY VICTORY FUND - UNITEMIZED</td>\n",
       "      <td>4126693.23</td>\n",
       "    </tr>\n",
       "    <tr>\n",
       "      <th>3364742</th>\n",
       "      <td>HILLARY VICTORY FUND - UNITEMIZED</td>\n",
       "      <td>3686373.26</td>\n",
       "    </tr>\n",
       "    <tr>\n",
       "      <th>3369437</th>\n",
       "      <td>HILLARY VICTORY FUND - UNITEMIZED</td>\n",
       "      <td>3600489.08</td>\n",
       "    </tr>\n",
       "    <tr>\n",
       "      <th>3384894</th>\n",
       "      <td>HILLARY VICTORY FUND - UNITEMIZED</td>\n",
       "      <td>2976430.32</td>\n",
       "    </tr>\n",
       "  </tbody>\n",
       "</table>\n",
       "</div>"
      ],
      "text/plain": [
       "                                 contbr_nm  contb_receipt_amt\n",
       "3239378  HILLARY VICTORY FUND - UNITEMIZED        12777705.58\n",
       "3274161  HILLARY VICTORY FUND - UNITEMIZED         7402361.45\n",
       "3224394  HILLARY VICTORY FUND - UNITEMIZED         6358481.89\n",
       "3284270  HILLARY VICTORY FUND - UNITEMIZED         4904860.51\n",
       "3379521  HILLARY VICTORY FUND - UNITEMIZED         4575438.56\n",
       "3447482  HILLARY VICTORY FUND - UNITEMIZED         4560967.14\n",
       "3484760  HILLARY VICTORY FUND - UNITEMIZED         4126693.23\n",
       "3364742  HILLARY VICTORY FUND - UNITEMIZED         3686373.26\n",
       "3369437  HILLARY VICTORY FUND - UNITEMIZED         3600489.08\n",
       "3384894  HILLARY VICTORY FUND - UNITEMIZED         2976430.32"
      ]
     },
     "execution_count": 12,
     "metadata": {},
     "output_type": "execute_result"
    }
   ],
   "source": [
    "top_doner.head(10)"
   ]
  },
  {
   "cell_type": "code",
   "execution_count": 13,
   "metadata": {},
   "outputs": [
    {
     "data": {
      "text/plain": [
       "array([[<matplotlib.axes._subplots.AxesSubplot object at 0x000000007EB6BF28>]], dtype=object)"
      ]
     },
     "execution_count": 13,
     "metadata": {},
     "output_type": "execute_result"
    },
    {
     "data": {
      "image/png": "[encoded data removed]",
      "text/plain": [
       "<matplotlib.figure.Figure at 0x7eb6bd30>"
      ]
     },
     "metadata": {},
     "output_type": "display_data"
    }
   ],
   "source": [
    "com_don = top_doner[top_doner < 250]\n",
    "\n",
    "com_don.hist(bins=100)"
   ]
  },
  {
   "cell_type": "code",
   "execution_count": 14,
   "metadata": {
    "scrolled": true
   },
   "outputs": [
    {
     "name": "stdout",
     "output_type": "stream",
     "text": [
      "Gilmore, James S III raised 105561\n",
      "Webb, James Henry Jr. raised 439246\n",
      "Pataki, George E. raised 507349\n",
      "McMullin, Evan raised 553408\n",
      "Lessig, Lawrence raised 624220\n",
      "Santorum, Richard J. raised 1139075\n",
      "Perry, James R. (Rick) raised 1189868\n",
      "Jindal, Bobby raised 1275393\n",
      "Stein, Jill raised 2493803\n",
      "Huckabee, Mike raised 2499978\n",
      "Johnson, Gary raised 3584074\n",
      "O'Malley, Martin Joseph raised 4064948\n",
      "Graham, Lindsey O. raised 4632862\n",
      "Paul, Rand raised 6314863\n",
      "Walker, Scott raised 6601235\n",
      "Fiorina, Carly raised 6693845\n",
      "Christie, Christopher J. raised 8214280\n",
      "Kasich, John R. raised 14752678\n",
      "Carson, Benjamin S. raised 29014000\n",
      "Bush, Jeb raised 33773733\n",
      "Rubio, Marco raised 40542078\n",
      "Cruz, Rafael Edward 'Ted' raised 69752747\n",
      "Sanders, Bernard raised 97572014\n",
      "Trump, Donald J. raised 127578631\n",
      "Clinton, Hillary Rodham raised 521951750\n"
     ]
    }
   ],
   "source": [
    "# The Total the canidate raised\n",
    "cand_amount = doner_df.groupby('cand_nm')['contb_receipt_amt'].sum().sort_values()\n",
    "\n",
    "i = 0\n",
    "\n",
    "for don in cand_amount:\n",
    "    print '%s raised %.0f' %(cand_amount.index[i],don)\n",
    "    i += 1"
   ]
  },
  {
   "cell_type": "code",
   "execution_count": 15,
   "metadata": {},
   "outputs": [
    {
     "data": {
      "text/plain": [
       "<matplotlib.axes._subplots.AxesSubplot at 0x15902eb8>"
      ]
     },
     "execution_count": 15,
     "metadata": {},
     "output_type": "execute_result"
    },
    {
     "data": {
      "image/png": "[encoded data removed]",
      "text/plain": [
       "<matplotlib.figure.Figure at 0x7f87f28>"
      ]
     },
     "metadata": {},
     "output_type": "display_data"
    }
   ],
   "source": [
    "cand_amount.plot(kind='bar',figsize=(14,6))"
   ]
  },
  {
   "cell_type": "code",
   "execution_count": 16,
   "metadata": {},
   "outputs": [
    {
     "data": {
      "text/plain": [
       "<matplotlib.axes._subplots.AxesSubplot at 0x23b626a0>"
      ]
     },
     "execution_count": 16,
     "metadata": {},
     "output_type": "execute_result"
    },
    {
     "data": {
      "image/png": "[encoded data removed]",
      "text/plain": [
       "<matplotlib.figure.Figure at 0x167a43c8>"
      ]
     },
     "metadata": {},
     "output_type": "display_data"
    }
   ],
   "source": [
    "# Average\n",
    "avg_donations = doner_df.groupby(\"cand_nm\").mean().sort_values(by=\"contb_receipt_amt\")\n",
    "avg_donations[\"contb_receipt_amt\"].plot(kind=\"bar\",figsize=(12,5))"
   ]
  },
  {
   "cell_type": "markdown",
   "metadata": {},
   "source": [
    "#### Thats a bit easier to see and understand just how much Hillary out funded everyone"
   ]
  },
  {
   "cell_type": "code",
   "execution_count": 17,
   "metadata": {},
   "outputs": [
    {
     "data": {
      "text/plain": [
       "<matplotlib.axes._subplots.AxesSubplot at 0x2a4f08d0>"
      ]
     },
     "execution_count": 17,
     "metadata": {},
     "output_type": "execute_result"
    },
    {
     "data": {
      "image/png": "[encoded data removed]",
      "text/plain": [
       "<matplotlib.figure.Figure at 0x66a2470>"
      ]
     },
     "metadata": {},
     "output_type": "display_data"
    }
   ],
   "source": [
    "doner_df.groupby('Party')['contb_receipt_amt'].sum().sort_values().plot(kind='bar')"
   ]
  },
  {
   "cell_type": "markdown",
   "metadata": {},
   "source": [
    "#### While there were a ton of Republican canidates the Democrats specifically Hillary significantly out raised them in total\n",
    "<hr>"
   ]
  },
  {
   "cell_type": "markdown",
   "metadata": {},
   "source": [
    "## Lets look at donations by Careers"
   ]
  },
  {
   "cell_type": "code",
   "execution_count": 18,
   "metadata": {},
   "outputs": [],
   "source": [
    "# Pivot table much like in excel\n",
    "job_pt = doner_df.pivot_table('contb_receipt_amt', index='contbr_occupation', columns = 'Party', aggfunc='sum')"
   ]
  },
  {
   "cell_type": "code",
   "execution_count": 19,
   "metadata": {},
   "outputs": [
    {
     "data": {
      "text/html": [
       "<div>\n",
       "<table border=\"1\" class=\"dataframe\">\n",
       "  <thead>\n",
       "    <tr style=\"text-align: right;\">\n",
       "      <th>Party</th>\n",
       "      <th>3rd Party</th>\n",
       "      <th>Democrat</th>\n",
       "      <th>Republican</th>\n",
       "      <th>Total</th>\n",
       "    </tr>\n",
       "    <tr>\n",
       "      <th>contbr_occupation</th>\n",
       "      <th></th>\n",
       "      <th></th>\n",
       "      <th></th>\n",
       "      <th></th>\n",
       "    </tr>\n",
       "  </thead>\n",
       "  <tbody>\n",
       "    <tr>\n",
       "      <th>ADMINISTRATIVE ASSISTANT</th>\n",
       "      <td>NaN</td>\n",
       "      <td>150.00</td>\n",
       "      <td>NaN</td>\n",
       "      <td>150.00</td>\n",
       "    </tr>\n",
       "    <tr>\n",
       "      <th>ARTIST</th>\n",
       "      <td>NaN</td>\n",
       "      <td>100.00</td>\n",
       "      <td>NaN</td>\n",
       "      <td>100.00</td>\n",
       "    </tr>\n",
       "    <tr>\n",
       "      <th>ATTORNEY</th>\n",
       "      <td>NaN</td>\n",
       "      <td>2100.50</td>\n",
       "      <td>NaN</td>\n",
       "      <td>2100.50</td>\n",
       "    </tr>\n",
       "    <tr>\n",
       "      <th>CAREER ADVISOR</th>\n",
       "      <td>NaN</td>\n",
       "      <td>50.00</td>\n",
       "      <td>NaN</td>\n",
       "      <td>50.00</td>\n",
       "    </tr>\n",
       "    <tr>\n",
       "      <th>CERTIFIED REGISTERED NURSE ANESTHETIS</th>\n",
       "      <td>NaN</td>\n",
       "      <td>2927.72</td>\n",
       "      <td>NaN</td>\n",
       "      <td>2927.72</td>\n",
       "    </tr>\n",
       "  </tbody>\n",
       "</table>\n",
       "</div>"
      ],
      "text/plain": [
       "Party                                   3rd Party  Democrat  Republican  \\\n",
       "contbr_occupation                                                         \n",
       " ADMINISTRATIVE ASSISTANT                     NaN    150.00         NaN   \n",
       " ARTIST                                       NaN    100.00         NaN   \n",
       " ATTORNEY                                     NaN   2100.50         NaN   \n",
       " CAREER ADVISOR                               NaN     50.00         NaN   \n",
       " CERTIFIED REGISTERED NURSE ANESTHETIS        NaN   2927.72         NaN   \n",
       "\n",
       "Party                                     Total  \n",
       "contbr_occupation                                \n",
       " ADMINISTRATIVE ASSISTANT                150.00  \n",
       " ARTIST                                  100.00  \n",
       " ATTORNEY                               2100.50  \n",
       " CAREER ADVISOR                           50.00  \n",
       " CERTIFIED REGISTERED NURSE ANESTHETIS  2927.72  "
      ]
     },
     "execution_count": 19,
     "metadata": {},
     "output_type": "execute_result"
    }
   ],
   "source": [
    "job_pt[\"Total\"] = job_pt.sum(axis=1)\n",
    "job_pt.head()"
   ]
  },
  {
   "cell_type": "code",
   "execution_count": 20,
   "metadata": {},
   "outputs": [],
   "source": [
    "job_pt = job_pt.sort_values(by=\"Total\",ascending=True)"
   ]
  },
  {
   "cell_type": "code",
   "execution_count": 21,
   "metadata": {},
   "outputs": [
    {
     "name": "stdout",
     "output_type": "stream",
     "text": [
      "<class 'pandas.core.frame.DataFrame'>\n",
      "Index: 127268 entries, SERVICE SALES REPRESENTATIVE to RETIRED\n",
      "Data columns (total 4 columns):\n",
      "3rd Party     3290 non-null float64\n",
      "Democrat      79117 non-null float64\n",
      "Republican    61340 non-null float64\n",
      "Total         127268 non-null float64\n",
      "dtypes: float64(4)\n",
      "memory usage: 4.9+ MB\n"
     ]
    }
   ],
   "source": [
    "job_pt.info()"
   ]
  },
  {
   "cell_type": "markdown",
   "metadata": {},
   "source": [
    "#### Okay so this has 127,268 'jobs' but includes blanks errors and duplicates so we clearly dont want all<br><br>Lets try grouping by ammount donated and see if that gets us some cleaner information lets try 2 million"
   ]
  },
  {
   "cell_type": "code",
   "execution_count": 22,
   "metadata": {},
   "outputs": [],
   "source": [
    "job_pt = job_pt[job_pt['Total'] > 2000000]"
   ]
  },
  {
   "cell_type": "code",
   "execution_count": 23,
   "metadata": {},
   "outputs": [
    {
     "data": {
      "text/plain": [
       "(44, 4)"
      ]
     },
     "execution_count": 23,
     "metadata": {},
     "output_type": "execute_result"
    }
   ],
   "source": [
    "# 44 jobs are over $2,000,000\n",
    "job_pt.shape"
   ]
  },
  {
   "cell_type": "code",
   "execution_count": 24,
   "metadata": {
    "scrolled": true
   },
   "outputs": [
    {
     "data": {
      "text/html": [
       "<div>\n",
       "<table border=\"1\" class=\"dataframe\">\n",
       "  <thead>\n",
       "    <tr style=\"text-align: right;\">\n",
       "      <th>Party</th>\n",
       "      <th>3rd Party</th>\n",
       "      <th>Democrat</th>\n",
       "      <th>Republican</th>\n",
       "      <th>Total</th>\n",
       "    </tr>\n",
       "    <tr>\n",
       "      <th>contbr_occupation</th>\n",
       "      <th></th>\n",
       "      <th></th>\n",
       "      <th></th>\n",
       "      <th></th>\n",
       "    </tr>\n",
       "  </thead>\n",
       "  <tbody>\n",
       "    <tr>\n",
       "      <th>INVESTMENTS</th>\n",
       "      <td>18884.75</td>\n",
       "      <td>6.567254e+05</td>\n",
       "      <td>1.353727e+06</td>\n",
       "      <td>2.029337e+06</td>\n",
       "    </tr>\n",
       "    <tr>\n",
       "      <th>EDUCATOR</th>\n",
       "      <td>9771.80</td>\n",
       "      <td>1.883753e+06</td>\n",
       "      <td>1.672757e+05</td>\n",
       "      <td>2.060800e+06</td>\n",
       "    </tr>\n",
       "    <tr>\n",
       "      <th>ENTREPRENEUR</th>\n",
       "      <td>17053.00</td>\n",
       "      <td>1.285851e+06</td>\n",
       "      <td>8.152827e+05</td>\n",
       "      <td>2.118187e+06</td>\n",
       "    </tr>\n",
       "    <tr>\n",
       "      <th>BANKER</th>\n",
       "      <td>6304.70</td>\n",
       "      <td>1.098698e+06</td>\n",
       "      <td>1.014728e+06</td>\n",
       "      <td>2.119731e+06</td>\n",
       "    </tr>\n",
       "    <tr>\n",
       "      <th>ARCHITECT</th>\n",
       "      <td>12008.49</td>\n",
       "      <td>1.735440e+06</td>\n",
       "      <td>4.588543e+05</td>\n",
       "      <td>2.206302e+06</td>\n",
       "    </tr>\n",
       "    <tr>\n",
       "      <th>FARMER</th>\n",
       "      <td>10176.55</td>\n",
       "      <td>5.318559e+05</td>\n",
       "      <td>1.692710e+06</td>\n",
       "      <td>2.234742e+06</td>\n",
       "    </tr>\n",
       "    <tr>\n",
       "      <th>PSYCHOLOGIST</th>\n",
       "      <td>12250.00</td>\n",
       "      <td>2.117766e+06</td>\n",
       "      <td>1.345607e+05</td>\n",
       "      <td>2.264577e+06</td>\n",
       "    </tr>\n",
       "    <tr>\n",
       "      <th>CPA</th>\n",
       "      <td>21170.95</td>\n",
       "      <td>1.128238e+06</td>\n",
       "      <td>1.308780e+06</td>\n",
       "      <td>2.458188e+06</td>\n",
       "    </tr>\n",
       "    <tr>\n",
       "      <th>MARKETING</th>\n",
       "      <td>13616.45</td>\n",
       "      <td>1.986465e+06</td>\n",
       "      <td>5.504764e+05</td>\n",
       "      <td>2.550558e+06</td>\n",
       "    </tr>\n",
       "    <tr>\n",
       "      <th>ACCOUNTANT</th>\n",
       "      <td>25204.50</td>\n",
       "      <td>1.545158e+06</td>\n",
       "      <td>1.054324e+06</td>\n",
       "      <td>2.624687e+06</td>\n",
       "    </tr>\n",
       "    <tr>\n",
       "      <th>REALTOR</th>\n",
       "      <td>9785.00</td>\n",
       "      <td>1.679468e+06</td>\n",
       "      <td>1.132490e+06</td>\n",
       "      <td>2.821743e+06</td>\n",
       "    </tr>\n",
       "    <tr>\n",
       "      <th>SELF EMPLOYED</th>\n",
       "      <td>23545.75</td>\n",
       "      <td>1.340535e+06</td>\n",
       "      <td>1.497272e+06</td>\n",
       "      <td>2.861353e+06</td>\n",
       "    </tr>\n",
       "    <tr>\n",
       "      <th>DIRECTOR</th>\n",
       "      <td>19953.60</td>\n",
       "      <td>2.282283e+06</td>\n",
       "      <td>6.664497e+05</td>\n",
       "      <td>2.968686e+06</td>\n",
       "    </tr>\n",
       "    <tr>\n",
       "      <th>CONDUIT TOTAL LISTED IN AGG. FIELD</th>\n",
       "      <td>NaN</td>\n",
       "      <td>3.096980e+06</td>\n",
       "      <td>NaN</td>\n",
       "      <td>3.096980e+06</td>\n",
       "    </tr>\n",
       "    <tr>\n",
       "      <th>VICE PRESIDENT</th>\n",
       "      <td>6029.45</td>\n",
       "      <td>2.034357e+06</td>\n",
       "      <td>1.058275e+06</td>\n",
       "      <td>3.098661e+06</td>\n",
       "    </tr>\n",
       "    <tr>\n",
       "      <th>FINANCE</th>\n",
       "      <td>41934.68</td>\n",
       "      <td>1.922821e+06</td>\n",
       "      <td>1.302961e+06</td>\n",
       "      <td>3.267716e+06</td>\n",
       "    </tr>\n",
       "    <tr>\n",
       "      <th>CHAIRMAN</th>\n",
       "      <td>13738.40</td>\n",
       "      <td>1.093243e+06</td>\n",
       "      <td>2.232494e+06</td>\n",
       "      <td>3.339475e+06</td>\n",
       "    </tr>\n",
       "    <tr>\n",
       "      <th>ARTIST</th>\n",
       "      <td>30383.00</td>\n",
       "      <td>3.060754e+06</td>\n",
       "      <td>2.698506e+05</td>\n",
       "      <td>3.360987e+06</td>\n",
       "    </tr>\n",
       "    <tr>\n",
       "      <th>PARTNER</th>\n",
       "      <td>3445.00</td>\n",
       "      <td>2.251080e+06</td>\n",
       "      <td>1.190405e+06</td>\n",
       "      <td>3.444931e+06</td>\n",
       "    </tr>\n",
       "    <tr>\n",
       "      <th>SELF-EMPLOYED</th>\n",
       "      <td>24622.00</td>\n",
       "      <td>3.628544e+05</td>\n",
       "      <td>3.671933e+06</td>\n",
       "      <td>4.059410e+06</td>\n",
       "    </tr>\n",
       "    <tr>\n",
       "      <th>SOFTWARE ENGINEER</th>\n",
       "      <td>155812.17</td>\n",
       "      <td>3.941078e+06</td>\n",
       "      <td>4.105275e+05</td>\n",
       "      <td>4.507417e+06</td>\n",
       "    </tr>\n",
       "    <tr>\n",
       "      <th>STUDENT</th>\n",
       "      <td>42628.07</td>\n",
       "      <td>3.709696e+06</td>\n",
       "      <td>9.290034e+05</td>\n",
       "      <td>4.681327e+06</td>\n",
       "    </tr>\n",
       "    <tr>\n",
       "      <th>WRITER</th>\n",
       "      <td>58619.96</td>\n",
       "      <td>4.696448e+06</td>\n",
       "      <td>3.928428e+05</td>\n",
       "      <td>5.147911e+06</td>\n",
       "    </tr>\n",
       "    <tr>\n",
       "      <th>SALES</th>\n",
       "      <td>45785.38</td>\n",
       "      <td>2.540823e+06</td>\n",
       "      <td>3.243667e+06</td>\n",
       "      <td>5.830276e+06</td>\n",
       "    </tr>\n",
       "    <tr>\n",
       "      <th>BUSINESS OWNER</th>\n",
       "      <td>42160.66</td>\n",
       "      <td>1.870745e+06</td>\n",
       "      <td>4.057967e+06</td>\n",
       "      <td>5.970873e+06</td>\n",
       "    </tr>\n",
       "    <tr>\n",
       "      <th>INVESTOR</th>\n",
       "      <td>69264.00</td>\n",
       "      <td>2.542662e+06</td>\n",
       "      <td>3.401620e+06</td>\n",
       "      <td>6.013546e+06</td>\n",
       "    </tr>\n",
       "    <tr>\n",
       "      <th>MANAGER</th>\n",
       "      <td>82777.36</td>\n",
       "      <td>4.113470e+06</td>\n",
       "      <td>2.902017e+06</td>\n",
       "      <td>7.098265e+06</td>\n",
       "    </tr>\n",
       "    <tr>\n",
       "      <th>REAL ESTATE</th>\n",
       "      <td>41567.55</td>\n",
       "      <td>3.084272e+06</td>\n",
       "      <td>4.097864e+06</td>\n",
       "      <td>7.223703e+06</td>\n",
       "    </tr>\n",
       "    <tr>\n",
       "      <th>TEACHER</th>\n",
       "      <td>70832.40</td>\n",
       "      <td>6.771090e+06</td>\n",
       "      <td>9.592108e+05</td>\n",
       "      <td>7.801134e+06</td>\n",
       "    </tr>\n",
       "    <tr>\n",
       "      <th>ENGINEER</th>\n",
       "      <td>151310.23</td>\n",
       "      <td>4.909299e+06</td>\n",
       "      <td>3.634184e+06</td>\n",
       "      <td>8.694793e+06</td>\n",
       "    </tr>\n",
       "    <tr>\n",
       "      <th>PROFESSOR</th>\n",
       "      <td>64964.25</td>\n",
       "      <td>9.683826e+06</td>\n",
       "      <td>5.585040e+05</td>\n",
       "      <td>1.030729e+07</td>\n",
       "    </tr>\n",
       "    <tr>\n",
       "      <th>OWNER</th>\n",
       "      <td>47775.71</td>\n",
       "      <td>4.355606e+06</td>\n",
       "      <td>6.240037e+06</td>\n",
       "      <td>1.064342e+07</td>\n",
       "    </tr>\n",
       "    <tr>\n",
       "      <th>EXECUTIVE</th>\n",
       "      <td>62106.34</td>\n",
       "      <td>4.995736e+06</td>\n",
       "      <td>6.227872e+06</td>\n",
       "      <td>1.128571e+07</td>\n",
       "    </tr>\n",
       "    <tr>\n",
       "      <th>PRESIDENT</th>\n",
       "      <td>53596.45</td>\n",
       "      <td>6.048134e+06</td>\n",
       "      <td>7.937873e+06</td>\n",
       "      <td>1.403960e+07</td>\n",
       "    </tr>\n",
       "    <tr>\n",
       "      <th>LAWYER</th>\n",
       "      <td>48255.73</td>\n",
       "      <td>1.249978e+07</td>\n",
       "      <td>2.281451e+06</td>\n",
       "      <td>1.482948e+07</td>\n",
       "    </tr>\n",
       "    <tr>\n",
       "      <th>INFORMATION REQUESTED PER BEST EFFORTS</th>\n",
       "      <td>NaN</td>\n",
       "      <td>NaN</td>\n",
       "      <td>1.529517e+07</td>\n",
       "      <td>1.529517e+07</td>\n",
       "    </tr>\n",
       "    <tr>\n",
       "      <th>CONSULTANT</th>\n",
       "      <td>103017.70</td>\n",
       "      <td>1.240737e+07</td>\n",
       "      <td>3.875750e+06</td>\n",
       "      <td>1.638614e+07</td>\n",
       "    </tr>\n",
       "    <tr>\n",
       "      <th>CEO</th>\n",
       "      <td>75970.60</td>\n",
       "      <td>8.035269e+06</td>\n",
       "      <td>8.839239e+06</td>\n",
       "      <td>1.695048e+07</td>\n",
       "    </tr>\n",
       "    <tr>\n",
       "      <th>PHYSICIAN</th>\n",
       "      <td>151211.88</td>\n",
       "      <td>1.343999e+07</td>\n",
       "      <td>6.999147e+06</td>\n",
       "      <td>2.059035e+07</td>\n",
       "    </tr>\n",
       "    <tr>\n",
       "      <th>HOMEMAKER</th>\n",
       "      <td>117034.51</td>\n",
       "      <td>1.237521e+07</td>\n",
       "      <td>1.659512e+07</td>\n",
       "      <td>2.908736e+07</td>\n",
       "    </tr>\n",
       "    <tr>\n",
       "      <th>NOT EMPLOYED</th>\n",
       "      <td>1315.00</td>\n",
       "      <td>3.116304e+07</td>\n",
       "      <td>2.171659e+05</td>\n",
       "      <td>3.138152e+07</td>\n",
       "    </tr>\n",
       "    <tr>\n",
       "      <th>INFORMATION REQUESTED</th>\n",
       "      <td>9527.50</td>\n",
       "      <td>1.980982e+07</td>\n",
       "      <td>1.990326e+07</td>\n",
       "      <td>3.972261e+07</td>\n",
       "    </tr>\n",
       "    <tr>\n",
       "      <th>ATTORNEY</th>\n",
       "      <td>166154.85</td>\n",
       "      <td>4.129244e+07</td>\n",
       "      <td>1.022316e+07</td>\n",
       "      <td>5.168176e+07</td>\n",
       "    </tr>\n",
       "    <tr>\n",
       "      <th>RETIRED</th>\n",
       "      <td>835991.40</td>\n",
       "      <td>7.735237e+07</td>\n",
       "      <td>8.732449e+07</td>\n",
       "      <td>1.655129e+08</td>\n",
       "    </tr>\n",
       "  </tbody>\n",
       "</table>\n",
       "</div>"
      ],
      "text/plain": [
       "Party                                   3rd Party      Democrat    Republican  \\\n",
       "contbr_occupation                                                               \n",
       "INVESTMENTS                              18884.75  6.567254e+05  1.353727e+06   \n",
       "EDUCATOR                                  9771.80  1.883753e+06  1.672757e+05   \n",
       "ENTREPRENEUR                             17053.00  1.285851e+06  8.152827e+05   \n",
       "BANKER                                    6304.70  1.098698e+06  1.014728e+06   \n",
       "ARCHITECT                                12008.49  1.735440e+06  4.588543e+05   \n",
       "FARMER                                   10176.55  5.318559e+05  1.692710e+06   \n",
       "PSYCHOLOGIST                             12250.00  2.117766e+06  1.345607e+05   \n",
       "CPA                                      21170.95  1.128238e+06  1.308780e+06   \n",
       "MARKETING                                13616.45  1.986465e+06  5.504764e+05   \n",
       "ACCOUNTANT                               25204.50  1.545158e+06  1.054324e+06   \n",
       "REALTOR                                   9785.00  1.679468e+06  1.132490e+06   \n",
       "SELF EMPLOYED                            23545.75  1.340535e+06  1.497272e+06   \n",
       "DIRECTOR                                 19953.60  2.282283e+06  6.664497e+05   \n",
       "CONDUIT TOTAL LISTED IN AGG. FIELD            NaN  3.096980e+06           NaN   \n",
       "VICE PRESIDENT                            6029.45  2.034357e+06  1.058275e+06   \n",
       "FINANCE                                  41934.68  1.922821e+06  1.302961e+06   \n",
       "CHAIRMAN                                 13738.40  1.093243e+06  2.232494e+06   \n",
       "ARTIST                                   30383.00  3.060754e+06  2.698506e+05   \n",
       "PARTNER                                   3445.00  2.251080e+06  1.190405e+06   \n",
       "SELF-EMPLOYED                            24622.00  3.628544e+05  3.671933e+06   \n",
       "SOFTWARE ENGINEER                       155812.17  3.941078e+06  4.105275e+05   \n",
       "STUDENT                                  42628.07  3.709696e+06  9.290034e+05   \n",
       "WRITER                                   58619.96  4.696448e+06  3.928428e+05   \n",
       "SALES                                    45785.38  2.540823e+06  3.243667e+06   \n",
       "BUSINESS OWNER                           42160.66  1.870745e+06  4.057967e+06   \n",
       "INVESTOR                                 69264.00  2.542662e+06  3.401620e+06   \n",
       "MANAGER                                  82777.36  4.113470e+06  2.902017e+06   \n",
       "REAL ESTATE                              41567.55  3.084272e+06  4.097864e+06   \n",
       "TEACHER                                  70832.40  6.771090e+06  9.592108e+05   \n",
       "ENGINEER                                151310.23  4.909299e+06  3.634184e+06   \n",
       "PROFESSOR                                64964.25  9.683826e+06  5.585040e+05   \n",
       "OWNER                                    47775.71  4.355606e+06  6.240037e+06   \n",
       "EXECUTIVE                                62106.34  4.995736e+06  6.227872e+06   \n",
       "PRESIDENT                                53596.45  6.048134e+06  7.937873e+06   \n",
       "LAWYER                                   48255.73  1.249978e+07  2.281451e+06   \n",
       "INFORMATION REQUESTED PER BEST EFFORTS        NaN           NaN  1.529517e+07   \n",
       "CONSULTANT                              103017.70  1.240737e+07  3.875750e+06   \n",
       "CEO                                      75970.60  8.035269e+06  8.839239e+06   \n",
       "PHYSICIAN                               151211.88  1.343999e+07  6.999147e+06   \n",
       "HOMEMAKER                               117034.51  1.237521e+07  1.659512e+07   \n",
       "NOT EMPLOYED                              1315.00  3.116304e+07  2.171659e+05   \n",
       "INFORMATION REQUESTED                     9527.50  1.980982e+07  1.990326e+07   \n",
       "ATTORNEY                                166154.85  4.129244e+07  1.022316e+07   \n",
       "RETIRED                                 835991.40  7.735237e+07  8.732449e+07   \n",
       "\n",
       "Party                                          Total  \n",
       "contbr_occupation                                     \n",
       "INVESTMENTS                             2.029337e+06  \n",
       "EDUCATOR                                2.060800e+06  \n",
       "ENTREPRENEUR                            2.118187e+06  \n",
       "BANKER                                  2.119731e+06  \n",
       "ARCHITECT                               2.206302e+06  \n",
       "FARMER                                  2.234742e+06  \n",
       "PSYCHOLOGIST                            2.264577e+06  \n",
       "CPA                                     2.458188e+06  \n",
       "MARKETING                               2.550558e+06  \n",
       "ACCOUNTANT                              2.624687e+06  \n",
       "REALTOR                                 2.821743e+06  \n",
       "SELF EMPLOYED                           2.861353e+06  \n",
       "DIRECTOR                                2.968686e+06  \n",
       "CONDUIT TOTAL LISTED IN AGG. FIELD      3.096980e+06  \n",
       "VICE PRESIDENT                          3.098661e+06  \n",
       "FINANCE                                 3.267716e+06  \n",
       "CHAIRMAN                                3.339475e+06  \n",
       "ARTIST                                  3.360987e+06  \n",
       "PARTNER                                 3.444931e+06  \n",
       "SELF-EMPLOYED                           4.059410e+06  \n",
       "SOFTWARE ENGINEER                       4.507417e+06  \n",
       "STUDENT                                 4.681327e+06  \n",
       "WRITER                                  5.147911e+06  \n",
       "SALES                                   5.830276e+06  \n",
       "BUSINESS OWNER                          5.970873e+06  \n",
       "INVESTOR                                6.013546e+06  \n",
       "MANAGER                                 7.098265e+06  \n",
       "REAL ESTATE                             7.223703e+06  \n",
       "TEACHER                                 7.801134e+06  \n",
       "ENGINEER                                8.694793e+06  \n",
       "PROFESSOR                               1.030729e+07  \n",
       "OWNER                                   1.064342e+07  \n",
       "EXECUTIVE                               1.128571e+07  \n",
       "PRESIDENT                               1.403960e+07  \n",
       "LAWYER                                  1.482948e+07  \n",
       "INFORMATION REQUESTED PER BEST EFFORTS  1.529517e+07  \n",
       "CONSULTANT                              1.638614e+07  \n",
       "CEO                                     1.695048e+07  \n",
       "PHYSICIAN                               2.059035e+07  \n",
       "HOMEMAKER                               2.908736e+07  \n",
       "NOT EMPLOYED                            3.138152e+07  \n",
       "INFORMATION REQUESTED                   3.972261e+07  \n",
       "ATTORNEY                                5.168176e+07  \n",
       "RETIRED                                 1.655129e+08  "
      ]
     },
     "execution_count": 24,
     "metadata": {},
     "output_type": "execute_result"
    }
   ],
   "source": [
    "job_pt"
   ]
  },
  {
   "cell_type": "code",
   "execution_count": 25,
   "metadata": {
    "collapsed": true
   },
   "outputs": [],
   "source": [
    "# remove these rows\n",
    "job_pt.drop(['INFORMATION REQUESTED PER BEST EFFORTS', 'INFORMATION REQUESTED', 'RETIRED', \n",
    "             'CONDUIT TOTAL LISTED IN AGG. FIELD'],axis=0,inplace=True)\n",
    "\n",
    "#combine like rows\n",
    "job_pt.loc['SELF-EMPLOYED'] = job_pt.loc['SELF-EMPLOYED'] + job_pt.loc['SELF EMPLOYED']\n",
    "#remove self employed without dash\n",
    "job_pt.drop('SELF EMPLOYED',inplace=True)"
   ]
  },
  {
   "cell_type": "code",
   "execution_count": 26,
   "metadata": {},
   "outputs": [
    {
     "data": {
      "text/plain": [
       "<matplotlib.axes._subplots.AxesSubplot at 0x2caa39b0>"
      ]
     },
     "execution_count": 26,
     "metadata": {},
     "output_type": "execute_result"
    },
    {
     "data": {
      "image/png": "[encoded data removed]",
      "text/plain": [
       "<matplotlib.figure.Figure at 0x23b42f28>"
      ]
     },
     "metadata": {},
     "output_type": "display_data"
    }
   ],
   "source": [
    "job_pt[['Democrat','Republican']].plot(kind='barh',figsize=(10,16),cmap='bwr')"
   ]
  },
  {
   "cell_type": "markdown",
   "metadata": {},
   "source": [
    "#### Here you can see the breakdown by job and how they donate differently this looks at sum<br> but how about if we look at how many people donated instead of the ammount they did"
   ]
  },
  {
   "cell_type": "code",
   "execution_count": 27,
   "metadata": {},
   "outputs": [],
   "source": [
    "# Pivot table much like in excel\n",
    "job_pt = doner_df.pivot_table('contb_receipt_amt', index='contbr_occupation', columns = 'Party', aggfunc='count')"
   ]
  },
  {
   "cell_type": "code",
   "execution_count": 28,
   "metadata": {
    "scrolled": true
   },
   "outputs": [
    {
     "data": {
      "text/html": [
       "<div>\n",
       "<table border=\"1\" class=\"dataframe\">\n",
       "  <thead>\n",
       "    <tr style=\"text-align: right;\">\n",
       "      <th>Party</th>\n",
       "      <th>3rd Party</th>\n",
       "      <th>Democrat</th>\n",
       "      <th>Republican</th>\n",
       "      <th>Total</th>\n",
       "    </tr>\n",
       "    <tr>\n",
       "      <th>contbr_occupation</th>\n",
       "      <th></th>\n",
       "      <th></th>\n",
       "      <th></th>\n",
       "      <th></th>\n",
       "    </tr>\n",
       "  </thead>\n",
       "  <tbody>\n",
       "    <tr>\n",
       "      <th>ADMINISTRATIVE ASSISTANT</th>\n",
       "      <td>NaN</td>\n",
       "      <td>3.0</td>\n",
       "      <td>NaN</td>\n",
       "      <td>3.0</td>\n",
       "    </tr>\n",
       "    <tr>\n",
       "      <th>ARTIST</th>\n",
       "      <td>NaN</td>\n",
       "      <td>1.0</td>\n",
       "      <td>NaN</td>\n",
       "      <td>1.0</td>\n",
       "    </tr>\n",
       "    <tr>\n",
       "      <th>ATTORNEY</th>\n",
       "      <td>NaN</td>\n",
       "      <td>17.0</td>\n",
       "      <td>NaN</td>\n",
       "      <td>17.0</td>\n",
       "    </tr>\n",
       "    <tr>\n",
       "      <th>CAREER ADVISOR</th>\n",
       "      <td>NaN</td>\n",
       "      <td>1.0</td>\n",
       "      <td>NaN</td>\n",
       "      <td>1.0</td>\n",
       "    </tr>\n",
       "    <tr>\n",
       "      <th>CERTIFIED REGISTERED NURSE ANESTHETIS</th>\n",
       "      <td>NaN</td>\n",
       "      <td>44.0</td>\n",
       "      <td>NaN</td>\n",
       "      <td>44.0</td>\n",
       "    </tr>\n",
       "  </tbody>\n",
       "</table>\n",
       "</div>"
      ],
      "text/plain": [
       "Party                                   3rd Party  Democrat  Republican  Total\n",
       "contbr_occupation                                                             \n",
       " ADMINISTRATIVE ASSISTANT                     NaN       3.0         NaN    3.0\n",
       " ARTIST                                       NaN       1.0         NaN    1.0\n",
       " ATTORNEY                                     NaN      17.0         NaN   17.0\n",
       " CAREER ADVISOR                               NaN       1.0         NaN    1.0\n",
       " CERTIFIED REGISTERED NURSE ANESTHETIS        NaN      44.0         NaN   44.0"
      ]
     },
     "execution_count": 28,
     "metadata": {},
     "output_type": "execute_result"
    }
   ],
   "source": [
    "job_pt[\"Total\"] = job_pt.sum(axis=1)\n",
    "job_pt.head()"
   ]
  },
  {
   "cell_type": "code",
   "execution_count": 29,
   "metadata": {
    "collapsed": true
   },
   "outputs": [],
   "source": [
    "job_pt = job_pt.sort_values(by=\"Total\",ascending=True)"
   ]
  },
  {
   "cell_type": "code",
   "execution_count": 30,
   "metadata": {},
   "outputs": [],
   "source": [
    "job_pt = job_pt[job_pt['Total'] > 15000]"
   ]
  },
  {
   "cell_type": "code",
   "execution_count": 31,
   "metadata": {},
   "outputs": [
    {
     "data": {
      "text/plain": [
       "(46, 4)"
      ]
     },
     "execution_count": 31,
     "metadata": {},
     "output_type": "execute_result"
    }
   ],
   "source": [
    "job_pt.shape"
   ]
  },
  {
   "cell_type": "code",
   "execution_count": 32,
   "metadata": {},
   "outputs": [],
   "source": [
    "job_pt.drop(['DISABLED', 'INFORMATION REQUESTED PER BEST EFFORTS', 'RETIRED', 'INFORMATION REQUESTED',\n",
    "             'CONDUIT TOTAL LISTED IN AGG. FIELD'],axis=0,inplace=True)\n",
    "\n",
    "job_pt.loc['SELF-EMPLOYED'] = job_pt.loc['SELF-EMPLOYED'] + job_pt.loc['SELF EMPLOYED']\n",
    "job_pt.loc['REGISTERED NURSE'] = job_pt.loc['REGISTERED NURSE'] + job_pt.loc['RN']\n",
    "job_pt.loc['BUSINESS OWNER'] = job_pt.loc['BUSINESS OWNER'] + job_pt.loc['OWNER']\n",
    "\n",
    "job_pt.drop('SELF EMPLOYED', inplace=True)\n",
    "job_pt.drop('RN', inplace=True)\n",
    "job_pt.drop('OWNER', inplace=True)"
   ]
  },
  {
   "cell_type": "code",
   "execution_count": 33,
   "metadata": {
    "scrolled": false
   },
   "outputs": [
    {
     "data": {
      "text/plain": [
       "<matplotlib.axes._subplots.AxesSubplot at 0x34b38be0>"
      ]
     },
     "execution_count": 33,
     "metadata": {},
     "output_type": "execute_result"
    },
    {
     "data": {
      "image/png": "[encoded data removed]",
      "text/plain": [
       "<matplotlib.figure.Figure at 0x2a516d68>"
      ]
     },
     "metadata": {},
     "output_type": "display_data"
    }
   ],
   "source": [
    "job_pt[['Democrat','Republican']].plot(kind='barh',figsize=(10,16),cmap='bwr')"
   ]
  },
  {
   "cell_type": "markdown",
   "metadata": {},
   "source": [
    "#### Here you can see there was a lot more Not employed then there was Attornies <br>but if you look at the previous graph of sum donated Attornies have a bit more spending money to give away"
   ]
  },
  {
   "cell_type": "markdown",
   "metadata": {},
   "source": [
    "<hr>\n",
    "## Looking At Employer"
   ]
  },
  {
   "cell_type": "code",
   "execution_count": 34,
   "metadata": {
    "collapsed": true
   },
   "outputs": [],
   "source": [
    "employer_df = doner_df.pivot_table('contb_receipt_amt',index='contbr_employer',columns = 'Party',aggfunc='sum')"
   ]
  },
  {
   "cell_type": "code",
   "execution_count": 35,
   "metadata": {},
   "outputs": [
    {
     "data": {
      "text/plain": [
       "(398017, 3)"
      ]
     },
     "execution_count": 35,
     "metadata": {},
     "output_type": "execute_result"
    }
   ],
   "source": [
    "employer_df.shape"
   ]
  },
  {
   "cell_type": "code",
   "execution_count": 36,
   "metadata": {
    "collapsed": true
   },
   "outputs": [],
   "source": [
    "# once again graphing 398,017 different companies will not only look horrible, but take forever\n",
    "employer_df = employer_df[employer_df.sum(1) > 350000]"
   ]
  },
  {
   "cell_type": "code",
   "execution_count": 37,
   "metadata": {},
   "outputs": [
    {
     "data": {
      "text/plain": [
       "(44, 3)"
      ]
     },
     "execution_count": 37,
     "metadata": {},
     "output_type": "execute_result"
    }
   ],
   "source": [
    "employer_df.shape"
   ]
  },
  {
   "cell_type": "code",
   "execution_count": 38,
   "metadata": {
    "scrolled": true
   },
   "outputs": [
    {
     "data": {
      "text/html": [
       "<div>\n",
       "<table border=\"1\" class=\"dataframe\">\n",
       "  <thead>\n",
       "    <tr style=\"text-align: right;\">\n",
       "      <th>Party</th>\n",
       "      <th>3rd Party</th>\n",
       "      <th>Democrat</th>\n",
       "      <th>Republican</th>\n",
       "    </tr>\n",
       "    <tr>\n",
       "      <th>contbr_employer</th>\n",
       "      <th></th>\n",
       "      <th></th>\n",
       "      <th></th>\n",
       "    </tr>\n",
       "  </thead>\n",
       "  <tbody>\n",
       "    <tr>\n",
       "      <th>APPLE INC.</th>\n",
       "      <td>2390.27</td>\n",
       "      <td>6.157492e+05</td>\n",
       "      <td>1.691403e+04</td>\n",
       "    </tr>\n",
       "    <tr>\n",
       "      <th>AT&amp;T</th>\n",
       "      <td>1599.00</td>\n",
       "      <td>3.930897e+05</td>\n",
       "      <td>8.445015e+04</td>\n",
       "    </tr>\n",
       "    <tr>\n",
       "      <th>BANK OF AMERICA</th>\n",
       "      <td>989.00</td>\n",
       "      <td>3.137584e+05</td>\n",
       "      <td>8.756927e+04</td>\n",
       "    </tr>\n",
       "    <tr>\n",
       "      <th>CIVIC VOLUNTEER</th>\n",
       "      <td>NaN</td>\n",
       "      <td>NaN</td>\n",
       "      <td>4.270666e+05</td>\n",
       "    </tr>\n",
       "    <tr>\n",
       "      <th>COLUMBIA UNIVERSITY</th>\n",
       "      <td>540.00</td>\n",
       "      <td>5.088942e+05</td>\n",
       "      <td>1.585360e+04</td>\n",
       "    </tr>\n",
       "    <tr>\n",
       "      <th>COVINGTON &amp; BURLING LLP</th>\n",
       "      <td>1000.00</td>\n",
       "      <td>3.371457e+05</td>\n",
       "      <td>2.469000e+04</td>\n",
       "    </tr>\n",
       "    <tr>\n",
       "      <th>DLA PIPER LLP</th>\n",
       "      <td>NaN</td>\n",
       "      <td>3.859019e+05</td>\n",
       "      <td>5.050000e+03</td>\n",
       "    </tr>\n",
       "    <tr>\n",
       "      <th>FACEBOOK</th>\n",
       "      <td>4100.00</td>\n",
       "      <td>4.880039e+05</td>\n",
       "      <td>2.884904e+04</td>\n",
       "    </tr>\n",
       "    <tr>\n",
       "      <th>GOLDMAN SACHS</th>\n",
       "      <td>NaN</td>\n",
       "      <td>2.737989e+05</td>\n",
       "      <td>4.441873e+05</td>\n",
       "    </tr>\n",
       "    <tr>\n",
       "      <th>GOOGLE</th>\n",
       "      <td>33963.00</td>\n",
       "      <td>1.747589e+06</td>\n",
       "      <td>4.086180e+04</td>\n",
       "    </tr>\n",
       "    <tr>\n",
       "      <th>HARVARD UNIVERSITY</th>\n",
       "      <td>779.00</td>\n",
       "      <td>6.090910e+05</td>\n",
       "      <td>5.147250e+03</td>\n",
       "    </tr>\n",
       "    <tr>\n",
       "      <th>HOMEMAKER</th>\n",
       "      <td>70712.76</td>\n",
       "      <td>1.032269e+05</td>\n",
       "      <td>1.557000e+07</td>\n",
       "    </tr>\n",
       "    <tr>\n",
       "      <th>IBM</th>\n",
       "      <td>13394.80</td>\n",
       "      <td>4.785958e+05</td>\n",
       "      <td>9.277686e+04</td>\n",
       "    </tr>\n",
       "    <tr>\n",
       "      <th>INFORMATION REQUESTED</th>\n",
       "      <td>9527.50</td>\n",
       "      <td>1.915960e+07</td>\n",
       "      <td>2.015585e+07</td>\n",
       "    </tr>\n",
       "    <tr>\n",
       "      <th>INFORMATION REQUESTED PER BEST EFFORTS</th>\n",
       "      <td>NaN</td>\n",
       "      <td>NaN</td>\n",
       "      <td>1.631469e+07</td>\n",
       "    </tr>\n",
       "    <tr>\n",
       "      <th>JPMORGAN CHASE</th>\n",
       "      <td>NaN</td>\n",
       "      <td>3.761825e+05</td>\n",
       "      <td>2.130020e+04</td>\n",
       "    </tr>\n",
       "    <tr>\n",
       "      <th>KAISER PERMANENTE</th>\n",
       "      <td>5051.00</td>\n",
       "      <td>4.486548e+05</td>\n",
       "      <td>5.095701e+04</td>\n",
       "    </tr>\n",
       "    <tr>\n",
       "      <th>KIRKLAND &amp; ELLIS LLP</th>\n",
       "      <td>NaN</td>\n",
       "      <td>3.053693e+05</td>\n",
       "      <td>7.715636e+04</td>\n",
       "    </tr>\n",
       "    <tr>\n",
       "      <th>LATHAM &amp; WATKINS LLP</th>\n",
       "      <td>NaN</td>\n",
       "      <td>3.358406e+05</td>\n",
       "      <td>1.774300e+04</td>\n",
       "    </tr>\n",
       "    <tr>\n",
       "      <th>MICROSOFT</th>\n",
       "      <td>8700.00</td>\n",
       "      <td>8.683209e+05</td>\n",
       "      <td>8.708010e+04</td>\n",
       "    </tr>\n",
       "    <tr>\n",
       "      <th>MORGAN &amp; MORGAN</th>\n",
       "      <td>NaN</td>\n",
       "      <td>5.768052e+05</td>\n",
       "      <td>1.900000e+03</td>\n",
       "    </tr>\n",
       "    <tr>\n",
       "      <th>MORGAN STANLEY</th>\n",
       "      <td>3157.00</td>\n",
       "      <td>4.349717e+05</td>\n",
       "      <td>1.980259e+05</td>\n",
       "    </tr>\n",
       "    <tr>\n",
       "      <th>NEW YORK UNIVERSITY</th>\n",
       "      <td>3581.50</td>\n",
       "      <td>4.238838e+05</td>\n",
       "      <td>7.488000e+03</td>\n",
       "    </tr>\n",
       "    <tr>\n",
       "      <th>NONE</th>\n",
       "      <td>87436.75</td>\n",
       "      <td>1.657044e+07</td>\n",
       "      <td>2.140423e+06</td>\n",
       "    </tr>\n",
       "    <tr>\n",
       "      <th>NOT EMPLOYED</th>\n",
       "      <td>2275.00</td>\n",
       "      <td>1.817125e+07</td>\n",
       "      <td>2.450286e+05</td>\n",
       "    </tr>\n",
       "    <tr>\n",
       "      <th>PAUL WEISS RIFKIND WHARTON &amp; GARRISON</th>\n",
       "      <td>NaN</td>\n",
       "      <td>3.452812e+05</td>\n",
       "      <td>6.200000e+03</td>\n",
       "    </tr>\n",
       "    <tr>\n",
       "      <th>RETIRED</th>\n",
       "      <td>853404.11</td>\n",
       "      <td>1.778874e+07</td>\n",
       "      <td>8.684480e+07</td>\n",
       "    </tr>\n",
       "    <tr>\n",
       "      <th>SELF</th>\n",
       "      <td>516475.77</td>\n",
       "      <td>6.375224e+06</td>\n",
       "      <td>4.304496e+06</td>\n",
       "    </tr>\n",
       "    <tr>\n",
       "      <th>SELF EMPLOYED</th>\n",
       "      <td>316031.33</td>\n",
       "      <td>7.194902e+06</td>\n",
       "      <td>9.967645e+06</td>\n",
       "    </tr>\n",
       "    <tr>\n",
       "      <th>SELF-EMPLOYED</th>\n",
       "      <td>288872.18</td>\n",
       "      <td>6.057527e+07</td>\n",
       "      <td>3.011407e+07</td>\n",
       "    </tr>\n",
       "    <tr>\n",
       "      <th>SIDLEY AUSTIN LLP</th>\n",
       "      <td>NaN</td>\n",
       "      <td>3.337994e+05</td>\n",
       "      <td>5.223000e+04</td>\n",
       "    </tr>\n",
       "    <tr>\n",
       "      <th>SKADDEN ARPS SLATE MEAGHER &amp; FLOM LLP</th>\n",
       "      <td>NaN</td>\n",
       "      <td>3.655658e+05</td>\n",
       "      <td>4.201300e+02</td>\n",
       "    </tr>\n",
       "    <tr>\n",
       "      <th>STANFORD UNIVERSITY</th>\n",
       "      <td>3890.00</td>\n",
       "      <td>6.700374e+05</td>\n",
       "      <td>2.810121e+04</td>\n",
       "    </tr>\n",
       "    <tr>\n",
       "      <th>STATE OF CALIFORNIA</th>\n",
       "      <td>900.00</td>\n",
       "      <td>3.908809e+05</td>\n",
       "      <td>5.579683e+04</td>\n",
       "    </tr>\n",
       "    <tr>\n",
       "      <th>STUDENT</th>\n",
       "      <td>14591.70</td>\n",
       "      <td>1.132440e+05</td>\n",
       "      <td>6.591907e+05</td>\n",
       "    </tr>\n",
       "    <tr>\n",
       "      <th>TWICE REQUESTED NOT YET RECEIVED</th>\n",
       "      <td>372793.06</td>\n",
       "      <td>NaN</td>\n",
       "      <td>NaN</td>\n",
       "    </tr>\n",
       "    <tr>\n",
       "      <th>U.S. DEPARTMENT OF JUSTICE</th>\n",
       "      <td>NaN</td>\n",
       "      <td>3.577409e+05</td>\n",
       "      <td>1.030258e+04</td>\n",
       "    </tr>\n",
       "    <tr>\n",
       "      <th>U.S. DEPARTMENT OF STATE</th>\n",
       "      <td>1275.00</td>\n",
       "      <td>5.311461e+05</td>\n",
       "      <td>4.081750e+03</td>\n",
       "    </tr>\n",
       "    <tr>\n",
       "      <th>U.S. GOVERNMENT</th>\n",
       "      <td>NaN</td>\n",
       "      <td>6.733251e+05</td>\n",
       "      <td>3.207180e+04</td>\n",
       "    </tr>\n",
       "    <tr>\n",
       "      <th>UCLA</th>\n",
       "      <td>1000.00</td>\n",
       "      <td>3.321899e+05</td>\n",
       "      <td>2.331297e+04</td>\n",
       "    </tr>\n",
       "    <tr>\n",
       "      <th>UNIVERSITY OF CALIFORNIA</th>\n",
       "      <td>1550.00</td>\n",
       "      <td>3.927622e+05</td>\n",
       "      <td>1.969000e+03</td>\n",
       "    </tr>\n",
       "    <tr>\n",
       "      <th>UNIVERSITY OF MICHIGAN</th>\n",
       "      <td>3395.00</td>\n",
       "      <td>3.789262e+05</td>\n",
       "      <td>1.661126e+04</td>\n",
       "    </tr>\n",
       "    <tr>\n",
       "      <th>WELLS FARGO</th>\n",
       "      <td>9045.00</td>\n",
       "      <td>3.662068e+05</td>\n",
       "      <td>1.049981e+05</td>\n",
       "    </tr>\n",
       "    <tr>\n",
       "      <th>YALE UNIVERSITY</th>\n",
       "      <td>2144.75</td>\n",
       "      <td>3.903887e+05</td>\n",
       "      <td>5.457600e+03</td>\n",
       "    </tr>\n",
       "  </tbody>\n",
       "</table>\n",
       "</div>"
      ],
      "text/plain": [
       "Party                                   3rd Party      Democrat    Republican\n",
       "contbr_employer                                                              \n",
       "APPLE INC.                                2390.27  6.157492e+05  1.691403e+04\n",
       "AT&T                                      1599.00  3.930897e+05  8.445015e+04\n",
       "BANK OF AMERICA                            989.00  3.137584e+05  8.756927e+04\n",
       "CIVIC VOLUNTEER                               NaN           NaN  4.270666e+05\n",
       "COLUMBIA UNIVERSITY                        540.00  5.088942e+05  1.585360e+04\n",
       "COVINGTON & BURLING LLP                   1000.00  3.371457e+05  2.469000e+04\n",
       "DLA PIPER LLP                                 NaN  3.859019e+05  5.050000e+03\n",
       "FACEBOOK                                  4100.00  4.880039e+05  2.884904e+04\n",
       "GOLDMAN SACHS                                 NaN  2.737989e+05  4.441873e+05\n",
       "GOOGLE                                   33963.00  1.747589e+06  4.086180e+04\n",
       "HARVARD UNIVERSITY                         779.00  6.090910e+05  5.147250e+03\n",
       "HOMEMAKER                                70712.76  1.032269e+05  1.557000e+07\n",
       "IBM                                      13394.80  4.785958e+05  9.277686e+04\n",
       "INFORMATION REQUESTED                     9527.50  1.915960e+07  2.015585e+07\n",
       "INFORMATION REQUESTED PER BEST EFFORTS        NaN           NaN  1.631469e+07\n",
       "JPMORGAN CHASE                                NaN  3.761825e+05  2.130020e+04\n",
       "KAISER PERMANENTE                         5051.00  4.486548e+05  5.095701e+04\n",
       "KIRKLAND & ELLIS LLP                          NaN  3.053693e+05  7.715636e+04\n",
       "LATHAM & WATKINS LLP                          NaN  3.358406e+05  1.774300e+04\n",
       "MICROSOFT                                 8700.00  8.683209e+05  8.708010e+04\n",
       "MORGAN & MORGAN                               NaN  5.768052e+05  1.900000e+03\n",
       "MORGAN STANLEY                            3157.00  4.349717e+05  1.980259e+05\n",
       "NEW YORK UNIVERSITY                       3581.50  4.238838e+05  7.488000e+03\n",
       "NONE                                     87436.75  1.657044e+07  2.140423e+06\n",
       "NOT EMPLOYED                              2275.00  1.817125e+07  2.450286e+05\n",
       "PAUL WEISS RIFKIND WHARTON & GARRISON         NaN  3.452812e+05  6.200000e+03\n",
       "RETIRED                                 853404.11  1.778874e+07  8.684480e+07\n",
       "SELF                                    516475.77  6.375224e+06  4.304496e+06\n",
       "SELF EMPLOYED                           316031.33  7.194902e+06  9.967645e+06\n",
       "SELF-EMPLOYED                           288872.18  6.057527e+07  3.011407e+07\n",
       "SIDLEY AUSTIN LLP                             NaN  3.337994e+05  5.223000e+04\n",
       "SKADDEN ARPS SLATE MEAGHER & FLOM LLP         NaN  3.655658e+05  4.201300e+02\n",
       "STANFORD UNIVERSITY                       3890.00  6.700374e+05  2.810121e+04\n",
       "STATE OF CALIFORNIA                        900.00  3.908809e+05  5.579683e+04\n",
       "STUDENT                                  14591.70  1.132440e+05  6.591907e+05\n",
       "TWICE REQUESTED NOT YET RECEIVED        372793.06           NaN           NaN\n",
       "U.S. DEPARTMENT OF JUSTICE                    NaN  3.577409e+05  1.030258e+04\n",
       "U.S. DEPARTMENT OF STATE                  1275.00  5.311461e+05  4.081750e+03\n",
       "U.S. GOVERNMENT                               NaN  6.733251e+05  3.207180e+04\n",
       "UCLA                                      1000.00  3.321899e+05  2.331297e+04\n",
       "UNIVERSITY OF CALIFORNIA                  1550.00  3.927622e+05  1.969000e+03\n",
       "UNIVERSITY OF MICHIGAN                    3395.00  3.789262e+05  1.661126e+04\n",
       "WELLS FARGO                               9045.00  3.662068e+05  1.049981e+05\n",
       "YALE UNIVERSITY                           2144.75  3.903887e+05  5.457600e+03"
      ]
     },
     "execution_count": 38,
     "metadata": {},
     "output_type": "execute_result"
    }
   ],
   "source": [
    "# Thats better\n",
    "employer_df"
   ]
  },
  {
   "cell_type": "code",
   "execution_count": 39,
   "metadata": {
    "collapsed": true
   },
   "outputs": [],
   "source": [
    "employer_df.drop(['INFORMATION REQUESTED PER BEST EFFORTS', 'INFORMATION REQUESTED', 'RETIRED', \n",
    "                  'TWICE REQUESTED NOT YET RECEIVED'],axis=0,inplace=True)\n",
    "# combine like rows\n",
    "employer_df.loc['SELF-EMPLOYED'] = employer_df.loc['SELF-EMPLOYED'] + employer_df.loc['SELF EMPLOYED'] + employer_df.loc['SELF']\n",
    "employer_df.loc['NOT EMPLOYED'] = employer_df.loc['NOT EMPLOYED'] + employer_df.loc['NONE']\n",
    "# remove self employed without dash\n",
    "employer_df.drop('SELF EMPLOYED',inplace=True)\n",
    "employer_df.drop('SELF',inplace=True)\n",
    "employer_df.drop('NONE',inplace=True)\n",
    "# These were far to large to allow us to see anything else\n",
    "employer_df.drop('HOMEMAKER',inplace=True)\n",
    "employer_df.drop('NOT EMPLOYED',inplace=True)\n",
    "employer_df.drop('SELF-EMPLOYED',inplace=True)"
   ]
  },
  {
   "cell_type": "code",
   "execution_count": 40,
   "metadata": {},
   "outputs": [
    {
     "data": {
      "text/html": [
       "<div>\n",
       "<table border=\"1\" class=\"dataframe\">\n",
       "  <thead>\n",
       "    <tr style=\"text-align: right;\">\n",
       "      <th>Party</th>\n",
       "      <th>3rd Party</th>\n",
       "      <th>Democrat</th>\n",
       "      <th>Republican</th>\n",
       "      <th>Total</th>\n",
       "    </tr>\n",
       "    <tr>\n",
       "      <th>contbr_employer</th>\n",
       "      <th></th>\n",
       "      <th></th>\n",
       "      <th></th>\n",
       "      <th></th>\n",
       "    </tr>\n",
       "  </thead>\n",
       "  <tbody>\n",
       "    <tr>\n",
       "      <th>PAUL WEISS RIFKIND WHARTON &amp; GARRISON</th>\n",
       "      <td>NaN</td>\n",
       "      <td>345281.25</td>\n",
       "      <td>6200.00</td>\n",
       "      <td>351481.25</td>\n",
       "    </tr>\n",
       "    <tr>\n",
       "      <th>LATHAM &amp; WATKINS LLP</th>\n",
       "      <td>NaN</td>\n",
       "      <td>335840.62</td>\n",
       "      <td>17743.00</td>\n",
       "      <td>353583.62</td>\n",
       "    </tr>\n",
       "    <tr>\n",
       "      <th>UCLA</th>\n",
       "      <td>1000.0</td>\n",
       "      <td>332189.88</td>\n",
       "      <td>23312.97</td>\n",
       "      <td>356502.85</td>\n",
       "    </tr>\n",
       "    <tr>\n",
       "      <th>COVINGTON &amp; BURLING LLP</th>\n",
       "      <td>1000.0</td>\n",
       "      <td>337145.72</td>\n",
       "      <td>24690.00</td>\n",
       "      <td>362835.72</td>\n",
       "    </tr>\n",
       "    <tr>\n",
       "      <th>SKADDEN ARPS SLATE MEAGHER &amp; FLOM LLP</th>\n",
       "      <td>NaN</td>\n",
       "      <td>365565.76</td>\n",
       "      <td>420.13</td>\n",
       "      <td>365985.89</td>\n",
       "    </tr>\n",
       "  </tbody>\n",
       "</table>\n",
       "</div>"
      ],
      "text/plain": [
       "Party                                  3rd Party   Democrat  Republican  \\\n",
       "contbr_employer                                                           \n",
       "PAUL WEISS RIFKIND WHARTON & GARRISON        NaN  345281.25     6200.00   \n",
       "LATHAM & WATKINS LLP                         NaN  335840.62    17743.00   \n",
       "UCLA                                      1000.0  332189.88    23312.97   \n",
       "COVINGTON & BURLING LLP                   1000.0  337145.72    24690.00   \n",
       "SKADDEN ARPS SLATE MEAGHER & FLOM LLP        NaN  365565.76      420.13   \n",
       "\n",
       "Party                                      Total  \n",
       "contbr_employer                                   \n",
       "PAUL WEISS RIFKIND WHARTON & GARRISON  351481.25  \n",
       "LATHAM & WATKINS LLP                   353583.62  \n",
       "UCLA                                   356502.85  \n",
       "COVINGTON & BURLING LLP                362835.72  \n",
       "SKADDEN ARPS SLATE MEAGHER & FLOM LLP  365985.89  "
      ]
     },
     "execution_count": 40,
     "metadata": {},
     "output_type": "execute_result"
    }
   ],
   "source": [
    "employer_df[\"Total\"] = employer_df.sum(axis=1)\n",
    "employer_df = employer_df.sort_values(by=\"Total\",ascending=True)\n",
    "employer_df.head()"
   ]
  },
  {
   "cell_type": "code",
   "execution_count": 41,
   "metadata": {},
   "outputs": [
    {
     "data": {
      "text/plain": [
       "<matplotlib.axes._subplots.AxesSubplot at 0x417e55f8>"
      ]
     },
     "execution_count": 41,
     "metadata": {},
     "output_type": "execute_result"
    },
    {
     "data": {
      "image/png": "[encoded data removed]",
      "text/plain": [
       "<matplotlib.figure.Figure at 0x3ff58588>"
      ]
     },
     "metadata": {},
     "output_type": "display_data"
    }
   ],
   "source": [
    "employer_df[['Democrat','Republican']].plot(kind='barh',figsize=(10,16),cmap='bwr')"
   ]
  },
  {
   "cell_type": "markdown",
   "metadata": {},
   "source": [
    "<hr>\n",
    "## Lets move on to States"
   ]
  },
  {
   "cell_type": "code",
   "execution_count": 42,
   "metadata": {
    "collapsed": true
   },
   "outputs": [],
   "source": [
    "state_df = doner_df.pivot_table('contb_receipt_amt',index='contbr_st',columns = 'Party',aggfunc='sum')"
   ]
  },
  {
   "cell_type": "code",
   "execution_count": 43,
   "metadata": {},
   "outputs": [
    {
     "data": {
      "text/html": [
       "<div>\n",
       "<table border=\"1\" class=\"dataframe\">\n",
       "  <thead>\n",
       "    <tr style=\"text-align: right;\">\n",
       "      <th>Party</th>\n",
       "      <th>3rd Party</th>\n",
       "      <th>Democrat</th>\n",
       "      <th>Republican</th>\n",
       "    </tr>\n",
       "    <tr>\n",
       "      <th>contbr_st</th>\n",
       "      <th></th>\n",
       "      <th></th>\n",
       "      <th></th>\n",
       "    </tr>\n",
       "  </thead>\n",
       "  <tbody>\n",
       "    <tr>\n",
       "      <th>20</th>\n",
       "      <td>NaN</td>\n",
       "      <td>NaN</td>\n",
       "      <td>175.00</td>\n",
       "    </tr>\n",
       "    <tr>\n",
       "      <th>30</th>\n",
       "      <td>NaN</td>\n",
       "      <td>NaN</td>\n",
       "      <td>25.00</td>\n",
       "    </tr>\n",
       "    <tr>\n",
       "      <th>AA</th>\n",
       "      <td>250.0</td>\n",
       "      <td>42749.35</td>\n",
       "      <td>2474.07</td>\n",
       "    </tr>\n",
       "    <tr>\n",
       "      <th>AB</th>\n",
       "      <td>NaN</td>\n",
       "      <td>4493.10</td>\n",
       "      <td>NaN</td>\n",
       "    </tr>\n",
       "    <tr>\n",
       "      <th>AE</th>\n",
       "      <td>5987.7</td>\n",
       "      <td>172202.35</td>\n",
       "      <td>37958.55</td>\n",
       "    </tr>\n",
       "  </tbody>\n",
       "</table>\n",
       "</div>"
      ],
      "text/plain": [
       "Party      3rd Party   Democrat  Republican\n",
       "contbr_st                                  \n",
       "20               NaN        NaN      175.00\n",
       "30               NaN        NaN       25.00\n",
       "AA             250.0   42749.35     2474.07\n",
       "AB               NaN    4493.10         NaN\n",
       "AE            5987.7  172202.35    37958.55"
      ]
     },
     "execution_count": 43,
     "metadata": {},
     "output_type": "execute_result"
    }
   ],
   "source": [
    "state_df.head()"
   ]
  },
  {
   "cell_type": "code",
   "execution_count": 44,
   "metadata": {},
   "outputs": [],
   "source": [
    "state_df.drop(['20','30','FF','FR','GU','IS','LO','MP','ON','PR','SI','VI','XX','AS','AU','BC','BR','EN','JA',\n",
    "'LE','SW','U*','UK','AA','BU','PU','SA','TE','ZZ','AB','BA','BE','CH','DU','E','EU','FM','GR','HE','KE','LI','MB',\n",
    "'NB','NL','NO','NS','OS','QC','SH','SK','SO','ST','TO','W.','GE','N.','C','PW','AE','AM','AP','QB'],inplace=True)"
   ]
  },
  {
   "cell_type": "code",
   "execution_count": 45,
   "metadata": {},
   "outputs": [
    {
     "data": {
      "text/html": [
       "<div>\n",
       "<table border=\"1\" class=\"dataframe\">\n",
       "  <thead>\n",
       "    <tr style=\"text-align: right;\">\n",
       "      <th>Party</th>\n",
       "      <th>3rd Party</th>\n",
       "      <th>Democrat</th>\n",
       "      <th>Republican</th>\n",
       "      <th>Total</th>\n",
       "    </tr>\n",
       "    <tr>\n",
       "      <th>contbr_st</th>\n",
       "      <th></th>\n",
       "      <th></th>\n",
       "      <th></th>\n",
       "      <th></th>\n",
       "    </tr>\n",
       "  </thead>\n",
       "  <tbody>\n",
       "    <tr>\n",
       "      <th>ND</th>\n",
       "      <td>2875.00</td>\n",
       "      <td>327070.57</td>\n",
       "      <td>571892.83</td>\n",
       "      <td>901838.40</td>\n",
       "    </tr>\n",
       "    <tr>\n",
       "      <th>SD</th>\n",
       "      <td>3504.00</td>\n",
       "      <td>521135.46</td>\n",
       "      <td>708679.05</td>\n",
       "      <td>1233318.51</td>\n",
       "    </tr>\n",
       "    <tr>\n",
       "      <th>DE</th>\n",
       "      <td>6217.00</td>\n",
       "      <td>977554.76</td>\n",
       "      <td>604862.65</td>\n",
       "      <td>1588634.41</td>\n",
       "    </tr>\n",
       "    <tr>\n",
       "      <th>AK</th>\n",
       "      <td>22036.86</td>\n",
       "      <td>972811.97</td>\n",
       "      <td>810857.98</td>\n",
       "      <td>1805706.81</td>\n",
       "    </tr>\n",
       "    <tr>\n",
       "      <th>WY</th>\n",
       "      <td>14072.50</td>\n",
       "      <td>572265.52</td>\n",
       "      <td>1224614.66</td>\n",
       "      <td>1810952.68</td>\n",
       "    </tr>\n",
       "  </tbody>\n",
       "</table>\n",
       "</div>"
      ],
      "text/plain": [
       "Party      3rd Party   Democrat  Republican       Total\n",
       "contbr_st                                              \n",
       "ND           2875.00  327070.57   571892.83   901838.40\n",
       "SD           3504.00  521135.46   708679.05  1233318.51\n",
       "DE           6217.00  977554.76   604862.65  1588634.41\n",
       "AK          22036.86  972811.97   810857.98  1805706.81\n",
       "WY          14072.50  572265.52  1224614.66  1810952.68"
      ]
     },
     "execution_count": 45,
     "metadata": {},
     "output_type": "execute_result"
    }
   ],
   "source": [
    "state_df[\"Total\"] = state_df.sum(axis=1)\n",
    "state_df = state_df.sort_values(by=\"Total\",ascending=True)\n",
    "state_df.head()"
   ]
  },
  {
   "cell_type": "code",
   "execution_count": 46,
   "metadata": {},
   "outputs": [
    {
     "data": {
      "text/plain": [
       "<matplotlib.axes._subplots.AxesSubplot at 0x488137b8>"
      ]
     },
     "execution_count": 46,
     "metadata": {},
     "output_type": "execute_result"
    },
    {
     "data": {
      "image/png": "[encoded data removed]",
      "text/plain": [
       "<matplotlib.figure.Figure at 0x487fca20>"
      ]
     },
     "metadata": {},
     "output_type": "display_data"
    }
   ],
   "source": [
    "state_df[['Democrat','Republican']].plot(kind='barh',figsize=(15,16),cmap='bwr')"
   ]
  },
  {
   "cell_type": "markdown",
   "metadata": {},
   "source": [
    "<hr>\n",
    "## Cleaning Data for Rhode Island"
   ]
  },
  {
   "cell_type": "code",
   "execution_count": 47,
   "metadata": {
    "collapsed": true
   },
   "outputs": [],
   "source": [
    "RI_df = doner_df[doner_df.contbr_st == 'RI']"
   ]
  },
  {
   "cell_type": "code",
   "execution_count": 48,
   "metadata": {},
   "outputs": [
    {
     "data": {
      "text/html": [
       "<div>\n",
       "<table border=\"1\" class=\"dataframe\">\n",
       "  <thead>\n",
       "    <tr style=\"text-align: right;\">\n",
       "      <th></th>\n",
       "      <th>cmte_id</th>\n",
       "      <th>cand_id</th>\n",
       "      <th>cand_nm</th>\n",
       "      <th>contbr_nm</th>\n",
       "      <th>contbr_city</th>\n",
       "      <th>contbr_st</th>\n",
       "      <th>contbr_zip</th>\n",
       "      <th>contbr_employer</th>\n",
       "      <th>contbr_occupation</th>\n",
       "      <th>contb_receipt_amt</th>\n",
       "      <th>contb_receipt_dt</th>\n",
       "      <th>receipt_desc</th>\n",
       "      <th>memo_cd</th>\n",
       "      <th>memo_text</th>\n",
       "      <th>form_tp</th>\n",
       "      <th>file_num</th>\n",
       "      <th>tran_id</th>\n",
       "      <th>election_tp</th>\n",
       "      <th>Party</th>\n",
       "    </tr>\n",
       "  </thead>\n",
       "  <tbody>\n",
       "    <tr>\n",
       "      <th>83179</th>\n",
       "      <td>C00458844</td>\n",
       "      <td>P60006723</td>\n",
       "      <td>Rubio, Marco</td>\n",
       "      <td>BLOUNT, F. NELSON</td>\n",
       "      <td>BARRINGTON</td>\n",
       "      <td>RI</td>\n",
       "      <td>028061841</td>\n",
       "      <td>BLOUNT FINE FOODS</td>\n",
       "      <td>PRESIDENT</td>\n",
       "      <td>250.0</td>\n",
       "      <td>02-FEB-16</td>\n",
       "      <td>NaN</td>\n",
       "      <td>NaN</td>\n",
       "      <td>NaN</td>\n",
       "      <td>SA17A</td>\n",
       "      <td>1056862</td>\n",
       "      <td>SA17.969678</td>\n",
       "      <td>P2016</td>\n",
       "      <td>Republican</td>\n",
       "    </tr>\n",
       "    <tr>\n",
       "      <th>83180</th>\n",
       "      <td>C00458844</td>\n",
       "      <td>P60006723</td>\n",
       "      <td>Rubio, Marco</td>\n",
       "      <td>COOPER, DAVID</td>\n",
       "      <td>NEWPORT</td>\n",
       "      <td>RI</td>\n",
       "      <td>028402004</td>\n",
       "      <td>U.S. NAVAL WAR COLLEGE</td>\n",
       "      <td>PROFESSOR</td>\n",
       "      <td>100.0</td>\n",
       "      <td>21-FEB-16</td>\n",
       "      <td>NaN</td>\n",
       "      <td>NaN</td>\n",
       "      <td>NaN</td>\n",
       "      <td>SA17A</td>\n",
       "      <td>1056862</td>\n",
       "      <td>SA17.1026442</td>\n",
       "      <td>P2016</td>\n",
       "      <td>Republican</td>\n",
       "    </tr>\n",
       "    <tr>\n",
       "      <th>83181</th>\n",
       "      <td>C00458844</td>\n",
       "      <td>P60006723</td>\n",
       "      <td>Rubio, Marco</td>\n",
       "      <td>DEYOE, RONALD A. CAPT.</td>\n",
       "      <td>NEWPORT</td>\n",
       "      <td>RI</td>\n",
       "      <td>028401528</td>\n",
       "      <td>RETIRED</td>\n",
       "      <td>RETIRED</td>\n",
       "      <td>50.0</td>\n",
       "      <td>18-FEB-16</td>\n",
       "      <td>NaN</td>\n",
       "      <td>NaN</td>\n",
       "      <td>NaN</td>\n",
       "      <td>SA17A</td>\n",
       "      <td>1056862</td>\n",
       "      <td>SA17.1018752</td>\n",
       "      <td>P2016</td>\n",
       "      <td>Republican</td>\n",
       "    </tr>\n",
       "    <tr>\n",
       "      <th>83182</th>\n",
       "      <td>C00458844</td>\n",
       "      <td>P60006723</td>\n",
       "      <td>Rubio, Marco</td>\n",
       "      <td>FOGG, DAVID</td>\n",
       "      <td>WICKFORD</td>\n",
       "      <td>RI</td>\n",
       "      <td>028525103</td>\n",
       "      <td>AVC</td>\n",
       "      <td>SEMI-RETIRED</td>\n",
       "      <td>25.0</td>\n",
       "      <td>14-FEB-16</td>\n",
       "      <td>NaN</td>\n",
       "      <td>NaN</td>\n",
       "      <td>NaN</td>\n",
       "      <td>SA17A</td>\n",
       "      <td>1056862</td>\n",
       "      <td>SA17.1010821</td>\n",
       "      <td>P2016</td>\n",
       "      <td>Republican</td>\n",
       "    </tr>\n",
       "    <tr>\n",
       "      <th>83183</th>\n",
       "      <td>C00458844</td>\n",
       "      <td>P60006723</td>\n",
       "      <td>Rubio, Marco</td>\n",
       "      <td>FOGG, DAVID</td>\n",
       "      <td>WICKFORD</td>\n",
       "      <td>RI</td>\n",
       "      <td>028525103</td>\n",
       "      <td>AVC</td>\n",
       "      <td>SEMI-RETIRED</td>\n",
       "      <td>25.0</td>\n",
       "      <td>18-FEB-16</td>\n",
       "      <td>NaN</td>\n",
       "      <td>NaN</td>\n",
       "      <td>NaN</td>\n",
       "      <td>SA17A</td>\n",
       "      <td>1056862</td>\n",
       "      <td>SA17.1017099</td>\n",
       "      <td>P2016</td>\n",
       "      <td>Republican</td>\n",
       "    </tr>\n",
       "  </tbody>\n",
       "</table>\n",
       "</div>"
      ],
      "text/plain": [
       "         cmte_id    cand_id       cand_nm               contbr_nm contbr_city  \\\n",
       "83179  C00458844  P60006723  Rubio, Marco       BLOUNT, F. NELSON  BARRINGTON   \n",
       "83180  C00458844  P60006723  Rubio, Marco           COOPER, DAVID     NEWPORT   \n",
       "83181  C00458844  P60006723  Rubio, Marco  DEYOE, RONALD A. CAPT.     NEWPORT   \n",
       "83182  C00458844  P60006723  Rubio, Marco             FOGG, DAVID    WICKFORD   \n",
       "83183  C00458844  P60006723  Rubio, Marco             FOGG, DAVID    WICKFORD   \n",
       "\n",
       "      contbr_st contbr_zip         contbr_employer contbr_occupation  \\\n",
       "83179        RI  028061841       BLOUNT FINE FOODS         PRESIDENT   \n",
       "83180        RI  028402004  U.S. NAVAL WAR COLLEGE         PROFESSOR   \n",
       "83181        RI  028401528                 RETIRED           RETIRED   \n",
       "83182        RI  028525103                     AVC      SEMI-RETIRED   \n",
       "83183        RI  028525103                     AVC      SEMI-RETIRED   \n",
       "\n",
       "       contb_receipt_amt contb_receipt_dt receipt_desc memo_cd memo_text  \\\n",
       "83179              250.0        02-FEB-16          NaN     NaN       NaN   \n",
       "83180              100.0        21-FEB-16          NaN     NaN       NaN   \n",
       "83181               50.0        18-FEB-16          NaN     NaN       NaN   \n",
       "83182               25.0        14-FEB-16          NaN     NaN       NaN   \n",
       "83183               25.0        18-FEB-16          NaN     NaN       NaN   \n",
       "\n",
       "      form_tp  file_num       tran_id election_tp       Party  \n",
       "83179   SA17A   1056862   SA17.969678       P2016  Republican  \n",
       "83180   SA17A   1056862  SA17.1026442       P2016  Republican  \n",
       "83181   SA17A   1056862  SA17.1018752       P2016  Republican  \n",
       "83182   SA17A   1056862  SA17.1010821       P2016  Republican  \n",
       "83183   SA17A   1056862  SA17.1017099       P2016  Republican  "
      ]
     },
     "execution_count": 48,
     "metadata": {},
     "output_type": "execute_result"
    }
   ],
   "source": [
    "RI_df.head()"
   ]
  },
  {
   "cell_type": "code",
   "execution_count": 49,
   "metadata": {},
   "outputs": [
    {
     "data": {
      "text/plain": [
       "(25918, 19)"
      ]
     },
     "execution_count": 49,
     "metadata": {},
     "output_type": "execute_result"
    }
   ],
   "source": [
    "RI_df.shape"
   ]
  },
  {
   "cell_type": "code",
   "execution_count": 50,
   "metadata": {},
   "outputs": [
    {
     "data": {
      "text/plain": [
       "array(['BARRINGTON', 'NEWPORT', 'WICKFORD', 'WAKEFIELD', 'PORTSMOUTH',\n",
       "       'WEST WARWICK', 'NARRAGANSETT', 'EAST GREENWICH', 'PROVIDENCE',\n",
       "       'SAUNDERSTOWN', 'LITTLE COMPTON', 'CHARLESTOWN', 'EAST PROVIDENCE',\n",
       "       'WARWICK', 'MIDDLETOWN', 'TIVERTON', 'KINGSTON', 'SMITHFIELD',\n",
       "       'WOONSOCKET', 'WESTERLY', 'RUMFORD', 'NORTH PROVIDENCE',\n",
       "       'NORTH SMITHFIELD', 'FOSTER', 'COVENTRY', 'EXETER', 'LINCOLN',\n",
       "       'HOPE VALLEY', 'CUMBERLAND', 'CHEPACHET', 'ASHAWAY', 'PAWTUCKET',\n",
       "       'NORTH KINGSTOWN', 'GREENE', 'BRISTOL', 'N SCITUATE', 'GREENVILLE',\n",
       "       'NORTH SCITUATE', 'WYOMING', 'WCKFORD', 'WEST GREENWICH',\n",
       "       'WEST KINGSTON', 'CRANSTON', 'RIVERSIDE', 'N SMITHFIELD',\n",
       "       'WEST WARWWICK', 'E. GREENWICH', 'JAMESTOWN', 'N KINGSTOWN',\n",
       "       'WARREN', 'BLOCK ISLAND', 'JOHNSTON', 'HOPKINTON', 'HOPE',\n",
       "       'SOUTH KINGSTOWN', 'SCITUATE', 'E GREENWICH', 'CENTRAL FALLS',\n",
       "       'PASCOAG', 'CAROLINA', 'MANVILLE', 'RICHMOND', 'ADAMSVILLE',\n",
       "       'PRUDENCE ISL', 'MAPLEVILLE', 'SLATERSVILLE', 'PEACE DALE',\n",
       "       'WOOD RIVER JUNCTION', 'FORESTDALE', 'HARRISVILLE', 'ALBION',\n",
       "       'E PROVIDENCE', 'PARIS', 'N PROVIDENCE', 'S KINGSTOWN', 'HARMONY',\n",
       "       'ROCKVILLE', 'SLOCUM', 'SHANNOCK', 'CLAYVILLE', 'NEW SHOREHAM',\n",
       "       'W GREENWICH', 'INFO REQUESTED', 'BRADFORD', 'L. COMPTON',\n",
       "       'NARRAGANSET', 'HERMITAGE', 'NORTHPROVIDENCE', 'N. SCITUATE',\n",
       "       'BARRINGTION', 'SPEARFISH', 'VACAVILLE', 'MIDDLEFIELD',\n",
       "       'POOLESVILLE', 'MADISON', 'WEDT KINGSTON', 'SMITHFIELDSMITHFIELD',\n",
       "       'NORTH KING', 'NO. PROVIDENCE', 'WSET GREENWICH', 'SCOTTSDALE',\n",
       "       'LAKE FOREST', 'REDMOND', 'SAUNDERSTROWN', 'PITTSBURGH',\n",
       "       'PORT ST LUCIE', 'HONOMU', 'FTWORTH', 'CLINTON', 'N. KINGSTOWN',\n",
       "       'N. PROVIDENCE', 'PREONZO', 'N.PROV.', 'MIDDLETWON', 'LINCON',\n",
       "       'EAST GREENWICH, RI 02818', 'CHAPACHET', 'CHAMBERSBURG', 'OAKLAND',\n",
       "       'S. KINGSTOWN', 'SPARTANBURG', 'POTTSTOWN', 'FAIR LAWN',\n",
       "       'BURRILLVILLE', 'WARIWCK', 'GLENDALE', 'WARWICK. RHODE ISLAND',\n",
       "       'FAIR HAVEN', 'CHARLESTON', 'N.SCITUATE', 'WAWICK', 'CLAREMORE',\n",
       "       'SALT LAKE CITY', 'NO.KINGSTOWN', 'NARRAGONSETT', 'PERU',\n",
       "       'LITTLE COMPTO', 'KIAWAH ISLAND', 'ESAT PROVIDENCE'], dtype=object)"
      ]
     },
     "execution_count": 50,
     "metadata": {},
     "output_type": "execute_result"
    }
   ],
   "source": [
    "RI_df.contbr_city.unique()"
   ]
  },
  {
   "cell_type": "markdown",
   "metadata": {},
   "source": [
    "#### Well.... aparently there is 140 \"cities\" in RI like previously we have to remove data we don't need like those who live in 'CLINTON' RI<br><br>Aswell as combine like values, like the man who lives in SMITHFIELD and those who live in 'SMITHFIELDSMITHFIELD'<br><br> but first... lets see how many live in each of these 140 cities"
   ]
  },
  {
   "cell_type": "code",
   "execution_count": 51,
   "metadata": {
    "scrolled": true
   },
   "outputs": [
    {
     "data": {
      "text/plain": [
       "PROVIDENCE                  5428\n",
       "CRANSTON                    1916\n",
       "WARWICK                     1548\n",
       "NEWPORT                     1286\n",
       "NORTH KINGSTOWN             1084\n",
       "BARRINGTON                  1002\n",
       "WAKEFIELD                    917\n",
       "PAWTUCKET                    854\n",
       "EAST GREENWICH               773\n",
       "BRISTOL                      737\n",
       "RIVERSIDE                    597\n",
       "CUMBERLAND                   553\n",
       "WESTERLY                     551\n",
       "NARRAGANSETT                 507\n",
       "PORTSMOUTH                   507\n",
       "WEST WARWICK                 455\n",
       "JAMESTOWN                    435\n",
       "MIDDLETOWN                   398\n",
       "COVENTRY                     392\n",
       "WEST KINGSTON                382\n",
       "NORTH PROVIDENCE             362\n",
       "LINCOLN                      355\n",
       "WARREN                       291\n",
       "CHARLESTOWN                  288\n",
       "TIVERTON                     286\n",
       "BLOCK ISLAND                 284\n",
       "WOONSOCKET                   264\n",
       "LITTLE COMPTON               252\n",
       "SAUNDERSTOWN                 233\n",
       "JOHNSTON                     202\n",
       "                            ... \n",
       "FTWORTH                        1\n",
       "S. KINGSTOWN                   1\n",
       "CHAPACHET                      1\n",
       "PORT ST LUCIE                  1\n",
       "N. PROVIDENCE                  1\n",
       "EAST GREENWICH, RI 02818       1\n",
       "NARRAGONSETT                   1\n",
       "LINCON                         1\n",
       "L. COMPTON                     1\n",
       "NORTH KING                     1\n",
       "PERU                           1\n",
       "WARWICK. RHODE ISLAND          1\n",
       "CLAREMORE                      1\n",
       "LAKE FOREST                    1\n",
       "N.PROV.                        1\n",
       "NO.KINGSTOWN                   1\n",
       "WAWICK                         1\n",
       "WSET GREENWICH                 1\n",
       "FAIR HAVEN                     1\n",
       "REDMOND                        1\n",
       "SALT LAKE CITY                 1\n",
       "CHARLESTON                     1\n",
       "SCOTTSDALE                     1\n",
       "BURRILLVILLE                   1\n",
       "CHAMBERSBURG                   1\n",
       "MIDDLETWON                     1\n",
       "WEDT KINGSTON                  1\n",
       "SMITHFIELDSMITHFIELD           1\n",
       "BARRINGTION                    1\n",
       "MADISON                        1\n",
       "Name: contbr_city, dtype: int64"
      ]
     },
     "execution_count": 51,
     "metadata": {},
     "output_type": "execute_result"
    }
   ],
   "source": [
    "RI_df['contbr_city'].value_counts()"
   ]
  },
  {
   "cell_type": "markdown",
   "metadata": {},
   "source": [
    "#### Okay so a lot of the typos/wrong places are just 1-3 people, we could just remove them and it woulnd't effect our data much, but instead lets add them <br><br> I found ~23 that were not actual places in RI at all<br>I want to convert the smaller towns into whatever big town/city they are part of"
   ]
  },
  {
   "cell_type": "code",
   "execution_count": 52,
   "metadata": {
    "collapsed": true
   },
   "outputs": [],
   "source": [
    "RI_df = RI_df[~RI_df['contbr_city'].isin(['CHAMBERSBURG', 'CLINTON', 'FAIR HAVEN', 'CLAREMORE', 'FTWORTH', 'HERMITAGE', 'HONOMU',\n",
    "    'KIAWAH ISLAND', 'LAKE FOREST', 'MADISON', 'MIDDLEFIELD', 'PARIS', 'PERU', 'PITTSBURGH', 'POOLESVILLE', 'PORT ST LUCIE', \n",
    "    'POTTSTOWN', 'PREONZO', 'SALT LAKE CITY', 'SCOTTSDALE', 'SPARTANBURG', 'SPEARFISH', 'VACAVILLE', 'INFO REQUESTED',\n",
    "    'REDMOND'])]"
   ]
  },
  {
   "cell_type": "code",
   "execution_count": 53,
   "metadata": {
    "collapsed": true
   },
   "outputs": [],
   "source": [
    "RI_df = RI_df.replace(['BARRINGTION'],'BARRINGTON')\n",
    "RI_df = RI_df.replace(['GLENDALE','HARRISVILLE','MAPLEVILLE','OAKLAND','PASCOAG'],'BURRILLVILLE')\n",
    "RI_df = RI_df.replace(['CAROLINA','CHARLESTON','CHARLESTOWN'],'CHARLESTOWN')\n",
    "RI_df = RI_df.replace(['GREENE'],'COVENTRY')\n",
    "RI_df = RI_df.replace(['E GREENWICH','E. GREENWICH','EAST GREENWICH, RI 02818'],'EAST GREENWICH')\n",
    "RI_df = RI_df.replace(['E PROVIDENCE','EAST PROVIDENCE','ESAT PROVIDENCE','RIVERSIDE','RUMFORD'],'EAST PROVIDENCE')\n",
    "RI_df = RI_df.replace(['CLAYVILLE'],'FOSTER')\n",
    "RI_df = RI_df.replace(['CHAPACHET','CHEPACHET','HARMONY'],'GLOCESTER')\n",
    "RI_df = RI_df.replace(['ASHAWAY','HOPE VALLEY','ROCKVILLE'],'HOPKINTON')\n",
    "RI_df = RI_df.replace(['ALBION','FAIR LAWN','LINCON','MANVILLE'],'LINCOLN')\n",
    "RI_df = RI_df.replace(['ADAMSVILLE','L. COMPTON','LITTLE COMPTO','MANVILLE'],'LITTLE COMPTON')\n",
    "RI_df = RI_df.replace(['MIDDLETWON'],'MIDDLETOWN')\n",
    "RI_df = RI_df.replace(['NARRAGANSETT','NARRAGONSETT','SAUNDERSTOWN','SAUNDERSTROWN','NARRAGANSET'],'NARRAGANSETT')\n",
    "RI_df = RI_df.replace(['BLOCK ISLAND'],'NEW SHOREHAM')\n",
    "RI_df = RI_df.replace(['N KINGSTOWN','N. KINGSTOWN','NO.KINGSTOWN','NORTH KING','SLOCUM','WCKFORD','WICKFORD'],'NORTH KINGSTOWN')\n",
    "RI_df = RI_df.replace(['N PROVIDENCE','N. PROVIDENCE','N.PROV.','NO. PROVIDENCE','NORTHPROVIDENCE'],'NORTH PROVIDENCE')\n",
    "RI_df = RI_df.replace(['FORESTDALE','N SMITHFIELD','SLATERSVILLE'],'NORTH SMITHFIELD')\n",
    "RI_df = RI_df.replace(['PRUDENCE ISL'],'PORTSMOUTH')\n",
    "RI_df = RI_df.replace(['SHANNOCK','WOOD RIVER JUNCTION','WYOMING'],'RICHMOND')\n",
    "RI_df = RI_df.replace(['HOPE','N SCITUATE','N. SCITUATE','N.SCITUATE','NORTH SCITUATE'],'SCITUATE')\n",
    "RI_df = RI_df.replace(['GREENVILLE','SMITHFIELDSMITHFIELD'],'SMITHFIELD')\n",
    "RI_df = RI_df.replace(['KINGSTON','PEACE DALE','S KINGSTOWN','S. KINGSTOWN','SOUTH KINGSTOWN','WAKEFIELD','WEDT KINGSTON','WEST KINGSTON'],'SOUTH KINGSTOWN')\n",
    "RI_df = RI_df.replace(['WARIWCK','WAWICK','WARWICK. RHODE ISLAND'],'WARWICK')\n",
    "RI_df = RI_df.replace(['W GREENWICH','WSET GREENWICH'],'WEST GREENWICH')\n",
    "RI_df = RI_df.replace(['WEST WARWWICK'],'WEST WARWICK')\n",
    "RI_df = RI_df.replace(['BRADFORD'],'WESTERLY')"
   ]
  },
  {
   "cell_type": "code",
   "execution_count": 54,
   "metadata": {},
   "outputs": [
    {
     "data": {
      "text/plain": [
       "PROVIDENCE          5428\n",
       "CRANSTON            1916\n",
       "SOUTH KINGSTOWN     1754\n",
       "WARWICK             1553\n",
       "NEWPORT             1286\n",
       "NORTH KINGSTOWN     1170\n",
       "BARRINGTON          1003\n",
       "EAST PROVIDENCE      968\n",
       "PAWTUCKET            854\n",
       "EAST GREENWICH       816\n",
       "NARRAGANSETT         745\n",
       "BRISTOL              737\n",
       "WESTERLY             555\n",
       "CUMBERLAND           553\n",
       "PORTSMOUTH           509\n",
       "LINCOLN              485\n",
       "WEST WARWICK         456\n",
       "JAMESTOWN            435\n",
       "COVENTRY             419\n",
       "MIDDLETOWN           399\n",
       "NORTH PROVIDENCE     375\n",
       "CHARLESTOWN          309\n",
       "WARREN               291\n",
       "NEW SHOREHAM         288\n",
       "TIVERTON             286\n",
       "SCITUATE             279\n",
       "WOONSOCKET           264\n",
       "LITTLE COMPTON       261\n",
       "GLOCESTER            218\n",
       "JOHNSTON             202\n",
       "SMITHFIELD           196\n",
       "NORTH SMITHFIELD     167\n",
       "BURRILLVILLE         156\n",
       "HOPKINTON            143\n",
       "RICHMOND             132\n",
       "FOSTER               125\n",
       "WEST GREENWICH        73\n",
       "EXETER                62\n",
       "CENTRAL FALLS         20\n",
       "Name: contbr_city, dtype: int64"
      ]
     },
     "execution_count": 54,
     "metadata": {},
     "output_type": "execute_result"
    }
   ],
   "source": [
    "RI_df['contbr_city'].value_counts()"
   ]
  },
  {
   "cell_type": "markdown",
   "metadata": {},
   "source": [
    "#### Okay so now we got the data into major cities/towns next lets add counties"
   ]
  },
  {
   "cell_type": "code",
   "execution_count": 55,
   "metadata": {
    "collapsed": true
   },
   "outputs": [],
   "source": [
    "# dictionary of RI Counties\n",
    "county_map = {'BARRINGTON': 'BRISTOL',\n",
    "            'BRISTOL': 'BRISTOL',\n",
    "            'BURRILLVILLE': 'PROVIDENCE',\n",
    "            'CENTRAL FALLS': 'PROVIDENCE',\n",
    "            'CHARLESTOWN': 'WASHINGTON',\n",
    "            'COVENTRY': 'KENT',\n",
    "            'CRANSTON': 'PROVIDENCE',\n",
    "            'CUMBERLAND': 'PROVIDENCE',\n",
    "            'EAST GREENWICH': 'KENT',\n",
    "            'EAST PROVIDENCE': 'PROVIDENCE',\n",
    "            'EXETER': 'WASHINGTON',\n",
    "            'FOSTER': 'PROVIDENCE',\n",
    "            'GLOCESTER': 'PROVIDENCE',\n",
    "            'HOPKINTON': 'WASHINGTON',\n",
    "            'JAMESTOWN': 'NEWPORT',\n",
    "            'JOHNSTON': 'PROVIDENCE',\n",
    "            'LINCOLN': 'PROVIDENCE',\n",
    "            'LITTLE COMPTON': 'NEWPORT',\n",
    "            'MIDDLETOWN': 'NEWPORT',\n",
    "            'NARRAGANSETT': 'WASHINGTON',\n",
    "            'NEWPORT': 'NEWPORT',\n",
    "            'NEW SHOREHAM': 'WASHINGTON',\n",
    "            'NORTH KINGSTOWN': 'WASHINGTON',\n",
    "            'NORTH PROVIDENCE': 'PROVIDENCE',\n",
    "            'NORTH SMITHFIELD': 'PROVIDENCE',\n",
    "            'PAWTUCKET': 'PROVIDENCE',\n",
    "            'PORTSMOUTH': 'NEWPORT',\n",
    "            'PROVIDENCE': 'PROVIDENCE',\n",
    "            'RICHMOND': 'WASHINGTON',\n",
    "            'SCITUATE': 'PROVIDENCE',\n",
    "            'SMITHFIELD': 'PROVIDENCE',\n",
    "            'SOUTH KINGSTOWN': 'WASHINGTON',\n",
    "            'TIVERTON': 'NEWPORT',\n",
    "            'WARREN': 'BRISTOL',\n",
    "            'WARWICK': 'KENT',\n",
    "            'WESTERLY': 'WASHINGTON',\n",
    "            'WEST GREENWICH': 'KENT',\n",
    "            'WEST WARWICK': 'KENT',\n",
    "            'WOONSOCKET': 'PROVIDENCE'}\n",
    "\n",
    "# creating a party column and mapping party to canidate\n",
    "RI_df['County'] = RI_df.contbr_city.map(county_map)"
   ]
  },
  {
   "cell_type": "code",
   "execution_count": 56,
   "metadata": {},
   "outputs": [
    {
     "data": {
      "text/plain": [
       "PROVIDENCE    12206\n",
       "WASHINGTON     5158\n",
       "KENT           3317\n",
       "NEWPORT        3176\n",
       "BRISTOL        2031\n",
       "Name: County, dtype: int64"
      ]
     },
     "execution_count": 56,
     "metadata": {},
     "output_type": "execute_result"
    }
   ],
   "source": [
    "RI_df['County'].value_counts()"
   ]
  },
  {
   "cell_type": "code",
   "execution_count": 57,
   "metadata": {
    "collapsed": true
   },
   "outputs": [],
   "source": [
    "RI_df.to_csv('RI_Pres_Election_2016.csv')"
   ]
  }
 ],
 "metadata": {
  "kernelspec": {
   "display_name": "Python 3",
   "language": "python",
   "name": "python3"
  },
  "language_info": {
   "codemirror_mode": {
    "name": "ipython",
    "version": 3
   },
   "file_extension": ".py",
   "mimetype": "text/x-python",
   "name": "python",
   "nbconvert_exporter": "python",
   "pygments_lexer": "ipython3",
   "version": "3.6.5"
  }
 },
 "nbformat": 4,
 "nbformat_minor": 2
}
