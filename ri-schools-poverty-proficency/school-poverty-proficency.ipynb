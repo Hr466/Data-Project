{
 "cells": [
  {
   "cell_type": "markdown",
   "metadata": {},
   "source": [
    "Created by: [SmirkyGraphs](https://smirkygraphs.github.io/). Code: [Github](https://github.com/SmirkyGraphs/Python-Notebooks). Source: [RIDE]().\n",
    "<hr>"
   ]
  },
  {
   "cell_type": "markdown",
   "metadata": {},
   "source": [
    "# Rhode Island Public School's Poverty Proficency\n",
    "\n",
    "This Notebook will combine data from RI Dept. of Education on enrollment of students recieving FRL and the proficency metrics during the 2016-2017 school year. The data will then be used to make scatter plots in tableau seeing how poverty and profiency may align."
   ]
  },
  {
   "cell_type": "code",
   "execution_count": 1,
   "metadata": {},
   "outputs": [],
   "source": [
    "import pandas as pd\n",
    "import csv"
   ]
  },
  {
   "cell_type": "code",
   "execution_count": 2,
   "metadata": {},
   "outputs": [],
   "source": [
    "df = pd.read_csv('D:/Files/datasets/education/final_clean.csv')\n",
    "\n",
    "# filter proficency data for wanted columns\n",
    "keep_vals = [\n",
    "    '11th Grade Science', '4th Grade Science', '8th Grade Science',\n",
    "    '3rd Grade English', '3rd Grade Math', '4th Grade English',\n",
    "    '4th Grade Math', '5th Grade English', '5th Grade Math',\n",
    "    '6th Grade English', '6th Grade Math', '7th Grade English',\n",
    "    '7th Grade Math', '8th Grade English', '8th Grade Math',\n",
    "    '9th Grade English'\n",
    "]\n",
    "\n",
    "# get wanted values and make grade column\n",
    "df = df[df['subject'].isin(keep_vals)].copy()\n",
    "df['grade'] = df['subject'].str[:1]\n",
    "df.loc[df['grade'] == '1', 'grade'] = '11'\n",
    "\n",
    "# wanted year\n",
    "df = df[df['year'] == 2016]\n",
    "\n",
    "# filter for final dataset to merge\n",
    "cols = ['School', 'level', 'subject', 'year', 'value', 'grade', 'District', 'region']\n",
    "df = df[cols]\n",
    "\n",
    "renamer = {'School':'school', 'District':'district', 'value':'percent_proficient'}\n",
    "df = df.rename(columns=renamer)\n",
    "\n",
    "# remove no data on proficiency\n",
    "df = df[~df['percent_proficient'].isnull()]\n",
    "\n",
    "# get subject instead of subject + grade\n",
    "df['subject'] = df['subject'].apply(lambda x: x.split(' '))\n",
    "df['subject'] = df['subject'].apply(lambda x: ' '.join(x[-1:]))\n",
    "\n",
    "# remove excess spacing\n",
    "df['school'] = df['school'].str.strip()\n",
    "\n",
    "# convert grade to string for join\n",
    "df['grade'] = df['grade'].astype(str)\n",
    "\n",
    "# convert names to match FRL dataset\n",
    "school_translate = dict(csv.reader(open(\"./school-name-translate.csv\")))\n",
    "\n",
    "df['school2'] = df['school'].map(school_translate)\n",
    "df.loc[df['school2'].isnull(),'school2'] = df['school']\n",
    "df = df.drop(['school'], axis=1)\n",
    "df = df.rename(columns={'school2': 'school'})\n",
    "\n",
    "prof_df = df.copy()"
   ]
  },
  {
   "cell_type": "code",
   "execution_count": 3,
   "metadata": {},
   "outputs": [],
   "source": [
    "frl_df = pd.read_csv('D:/Files/datasets/education/percent_frl_2017.csv')\n",
    "\n",
    "# filter wanted columns\n",
    "cols = ['grade', 'school', 'percent_frl']\n",
    "frl_df = frl_df[cols]\n",
    "\n",
    "# remove excess spacing\n",
    "frl_df['school'] = frl_df['school'].str.strip()\n",
    "\n",
    "# convert grade to string for join\n",
    "frl_df['grade'] = frl_df['grade'].astype(str)"
   ]
  },
  {
   "cell_type": "code",
   "execution_count": 4,
   "metadata": {},
   "outputs": [],
   "source": [
    "df = prof_df.merge(frl_df, on=['grade', 'school'], how='left')\n",
    "df.to_csv('./school-poverty-proficency.csv', index=False)"
   ]
  }
 ],
 "metadata": {
  "kernelspec": {
   "display_name": "Python 3",
   "language": "python",
   "name": "python3"
  },
  "language_info": {
   "codemirror_mode": {
    "name": "ipython",
    "version": 3
   },
   "file_extension": ".py",
   "mimetype": "text/x-python",
   "name": "python",
   "nbconvert_exporter": "python",
   "pygments_lexer": "ipython3",
   "version": "3.6.5"
  }
 },
 "nbformat": 4,
 "nbformat_minor": 2
}
