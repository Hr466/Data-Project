{
 "cells": [
  {
   "cell_type": "markdown",
   "metadata": {},
   "source": [
    "Created by: [SmirkyGraphs](http://smirkygraphs.github.io/). Code: [Github](https://github.com/SmirkyGraphs/Python-Notebooks). Source: [treasury.gov](https://home.treasury.gov/policy-issues/cares-act/assistance-for-small-businesses/sba-paycheck-protection-program-loan-level-data).\n",
    "<hr>"
   ]
  },
  {
   "cell_type": "markdown",
   "metadata": {},
   "source": [
    "# Rhode Island SBA PPP Loans"
   ]
  },
  {
   "cell_type": "markdown",
   "metadata": {},
   "source": [
    "This notebook contains code used to combine all data for the SBA Paycheck Projection Program. The data is split into 2 datasets, one for payments under 150k and one for payments over 150k for the entire nation. The code below is used to clean the data and add in the NAICS code for the company industry.\n",
    "\n",
    "Tableau project based off the final cleaned dataset: [here](https://ivizri.com/posts/2020/07/ri-sba-ppp-loans/).\n",
    "<hr>"
   ]
  },
  {
   "cell_type": "code",
   "execution_count": 1,
   "metadata": {},
   "outputs": [],
   "source": [
    "import pandas as pd"
   ]
  },
  {
   "cell_type": "code",
   "execution_count": 2,
   "metadata": {},
   "outputs": [],
   "source": [
    "df = pd.read_csv('./data/raw/PPP Data up to 150K - RI.csv')\n",
    "\n",
    "df['id'] = df.index + 1 # add an id number\n",
    "df['NonProfit'] = df['NonProfit'].fillna('N') # tag for non-profit\n",
    "df['loan_per_job'] = df['LoanAmount']/df['JobsRetained'] # avg per job saved, then save file\n",
    "df['City'] = df['City'].apply(lambda x: x.title()) # title case city"
   ]
  },
  {
   "cell_type": "code",
   "execution_count": 3,
   "metadata": {},
   "outputs": [],
   "source": [
    "# merge industry, sector, sub-sector industry group and national industry\n",
    "naics = pd.read_csv('./data/external/2-6_digit_naics_codes.csv')\n",
    "naics = naics.set_index('2017 NAICS US Code')\n",
    "naics.index = naics.index.astype(str)\n",
    "df['NAICSCode'] = df['NAICSCode'].fillna(0).astype(int).astype(str)\n",
    "\n",
    "naics = naics.rename(columns={'2017 NAICS US Title': 'national industry'})\n",
    "df = df.merge(naics, how='left', left_on='NAICSCode', right_on='2017 NAICS US Code')\n",
    "\n",
    "df['temp'] = df['NAICSCode'].str[:2]\n",
    "naics = naics.rename(columns={'national industry': 'sector'})\n",
    "df = df.merge(naics, how='left', left_on='temp', right_on='2017 NAICS US Code')\n",
    "\n",
    "df['temp'] = df['NAICSCode'].str[:3]\n",
    "naics = naics.rename(columns={'sector': 'subsector'})\n",
    "df = df.merge(naics, how='left', left_on='temp', right_on='2017 NAICS US Code')\n",
    "\n",
    "df['temp'] = df['NAICSCode'].str[:4]\n",
    "naics = naics.rename(columns={'subsector': 'industry group'})\n",
    "df = df.merge(naics, how='left', left_on='temp', right_on='2017 NAICS US Code')\n",
    "\n",
    "# demographics contains a lot of missing info so removing it\n",
    "drop_cols = ['temp', 'Gender', 'Veteran', 'RaceEthnicity', 'CD']\n",
    "df = df.drop(columns=drop_cols)\n",
    "\n",
    "# save file\n",
    "df.to_csv('./data/clean/ri_ppp_under_150k.csv', index=False)"
   ]
  },
  {
   "cell_type": "code",
   "execution_count": 4,
   "metadata": {},
   "outputs": [],
   "source": [
    "df = pd.read_csv('./data/raw/PPP Data 150k plus.csv')\n",
    "\n",
    "df = df[df['State']=='RI'].reset_index(drop=True) # filter for ri\n",
    "df['id'] = df.index + 1 # add an id number\n",
    "df['LoanRange'] = df['LoanRange'].str[2:] # strip letter in loan range\n",
    "df['City'] = df['City'].apply(lambda x: x.title()) # title case city"
   ]
  },
  {
   "cell_type": "code",
   "execution_count": 5,
   "metadata": {},
   "outputs": [],
   "source": [
    "# merge industry, sector, sub-sector industry group and national industry\n",
    "naics = pd.read_csv('./data/external/2-6_digit_naics_codes.csv')\n",
    "naics = naics.set_index('2017 NAICS US Code')\n",
    "naics.index = naics.index.astype(str)\n",
    "df['NAICSCode'] = df['NAICSCode'].fillna(0).astype(int).astype(str)\n",
    "\n",
    "naics = naics.rename(columns={'2017 NAICS US Title': 'national industry'})\n",
    "df = df.merge(naics, how='left', left_on='NAICSCode', right_on='2017 NAICS US Code')\n",
    "\n",
    "df['temp'] = df['NAICSCode'].str[:2]\n",
    "naics = naics.rename(columns={'national industry': 'sector'})\n",
    "df = df.merge(naics, how='left', left_on='temp', right_on='2017 NAICS US Code')\n",
    "\n",
    "df['temp'] = df['NAICSCode'].str[:3]\n",
    "naics = naics.rename(columns={'sector': 'subsector'})\n",
    "df = df.merge(naics, how='left', left_on='temp', right_on='2017 NAICS US Code')\n",
    "\n",
    "df['temp'] = df['NAICSCode'].str[:4]\n",
    "naics = naics.rename(columns={'subsector': 'industry group'})\n",
    "df = df.merge(naics, how='left', left_on='temp', right_on='2017 NAICS US Code')\n",
    "\n",
    "# demographics contains a lot of missing info so removing it\n",
    "drop_cols = ['temp', 'Gender', 'Veteran', 'RaceEthnicity', 'CD']\n",
    "df = df.drop(columns=drop_cols)\n",
    "\n",
    "# save file\n",
    "df.to_csv('./data/clean/ri_ppp_over_150k.csv', index=False)"
   ]
  }
 ],
 "metadata": {
  "kernelspec": {
   "display_name": "Python 3",
   "language": "python",
   "name": "python3"
  },
  "language_info": {
   "codemirror_mode": {
    "name": "ipython",
    "version": 3
   },
   "file_extension": ".py",
   "mimetype": "text/x-python",
   "name": "python",
   "nbconvert_exporter": "python",
   "pygments_lexer": "ipython3",
   "version": "3.6.5"
  }
 },
 "nbformat": 4,
 "nbformat_minor": 2
}
