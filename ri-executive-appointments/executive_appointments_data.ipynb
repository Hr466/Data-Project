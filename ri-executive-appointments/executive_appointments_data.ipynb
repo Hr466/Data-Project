{
 "cells": [
  {
   "cell_type": "markdown",
   "metadata": {},
   "source": [
    "Created by [SmirkyGraphs](https://smirkygraphs.github.io/). Code: [Github](https://github.com/SmirkyGraphs/Python-Notebooks). Source: [RI Law Revision](http://webserver.rilin.state.ri.us/Lawrevision/exeap2019.htm).\n",
    "<hr>"
   ]
  },
  {
   "cell_type": "markdown",
   "metadata": {},
   "source": [
    "# Rhode Island Executive Appointments\n",
    "\n",
    "Rhode Island has a list of executive appointments since 2000. This data includes appointments, <br>\n",
    "appointee's, date and expiration of appointment. Early data also includes the city the appointee <br>\n",
    "is from and later data includes the legislative authority which allows the appointment.\n",
    "\n",
    "\n",
    "To use this you will have to download [selenium](https://selenium-python.readthedocs.io/), [pandas](https://pandas.pydata.org/pandas-docs/stable/) and [chromedriver](https://sites.google.com/a/chromium.org/chromedriver/)."
   ]
  },
  {
   "cell_type": "markdown",
   "metadata": {},
   "source": [
    "## Collecting Data\n",
    "\n",
    "The code below uses selenium to webscrape all the tables for each year, <br>\n",
    "converts them to a pandas dataframe, combines them all into 1 and saves it in `/data/raw`."
   ]
  },
  {
   "cell_type": "code",
   "execution_count": 1,
   "metadata": {},
   "outputs": [],
   "source": [
    "import pandas as pd\n",
    "from selenium import webdriver"
   ]
  },
  {
   "cell_type": "code",
   "execution_count": 2,
   "metadata": {},
   "outputs": [],
   "source": [
    "browser = webdriver.Chrome('C:/Users/Alex/bin/chromedriver.exe')\n",
    "url = 'http://webserver.rilin.state.ri.us/Lawrevision/exeap'\n",
    "\n",
    "# get start and end year\n",
    "start = 2000\n",
    "end = 2019\n",
    "\n",
    "frames = []\n",
    "for year in range(start, end + 1):\n",
    "    query_url = url + str(year) + '.htm'\n",
    "    browser.get(query_url)\n",
    "    \n",
    "    # get the table and load it as a pandas dataframe\n",
    "    table = browser.find_elements_by_tag_name('table')[2]\n",
    "    table = table.get_attribute('outerHTML')\n",
    "    df = pd.read_html(table)[0]\n",
    "    \n",
    "    # some years have a blank table row (removes them)\n",
    "    df = df.dropna(axis=1, how='all')\n",
    "    \n",
    "    headers = ['appointment', 'appointee', 'date', 'expires']\n",
    "    \n",
    "    if len(list(df)) > 4:\n",
    "        headers.insert(2, 'authority')\n",
    "        df.columns = headers\n",
    "        \n",
    "    else:\n",
    "        df.columns = headers\n",
    "        \n",
    "    # drop headers row as some are missing it \n",
    "    df = df[~(df['appointee'] == 'APPOINTEE')]\n",
    "    \n",
    "    # add a year column\n",
    "    df['year'] = str(year)\n",
    "    \n",
    "    # add dataframe to frames list\n",
    "    frames.append(df)\n",
    "    \n",
    "# combine all frames into 1 dataset\n",
    "frames = pd.concat(frames, sort=True)\n",
    "\n",
    "# saving file\n",
    "frames = frames.to_csv('./data/raw/executive_appointments_raw.csv', index=False)"
   ]
  },
  {
   "cell_type": "markdown",
   "metadata": {},
   "source": [
    "## Cleaning Data\n",
    "\n",
    "The code below uses pandas to clean the raw data and produce a clean one by doing the following:\n",
    "\n",
    "- adds seperate column for lifetime, governor's pleasure, ect. named `extra_expires`.\n",
    "- splits appointee on the word \"of\" which is followed by location creating a `appointee_location`.\n",
    "- adds governor and party info for each year named `governor` & `party`."
   ]
  },
  {
   "cell_type": "code",
   "execution_count": 3,
   "metadata": {},
   "outputs": [],
   "source": [
    "df = pd.read_csv('./data/raw/executive_appointments_raw.csv')\n",
    "\n",
    "# remove double spaces\n",
    "df['appointee'] = df['appointee'].str.replace('  ', ' ')\n",
    "df['appointment'] = df['appointment'].str.replace('  ', ' ')\n",
    "\n",
    "# add extra info from expires\n",
    "df['expires'] = df['expires'].str.lower()\n",
    "\n",
    "df.loc[(df['expires'].str.contains('life', na=False)), 'extra_expires'] = 'lifetime'\n",
    "df.loc[(df['expires'].str.contains('governor', na=False)), 'extra_expires'] = 'governor’s pleasure'\n",
    "df.loc[(df['expires'].str.contains('senate', na=False)), 'extra_expires'] = 'senate, advice & consent'\n",
    "df.loc[(df['expires'].str.contains('town', na=False)), 'extra_expires'] = 'town council representative'\n",
    "df['extra_expires'] = df['extra_expires'].fillna('other')\n",
    "\n",
    "# split on \"of\" which shows location of appointee (missing in later years)\n",
    "df.loc[(df['appointee'].str.contains('of', na=False)), 'appointee_location'] = df[\"appointee\"].str.split(\" of \").str[-1]\n",
    "df.loc[(df['appointee'].str.contains('of', na=False)), 'appointee'] = df[\"appointee\"].str.split(\" of \").str[0]\n",
    "df['appointee_location'] = df['appointee_location'].fillna('n/a')\n",
    "\n",
    "# adding governor and party info\n",
    "df.loc[(df['year'] >= 2000) & (df['year'] <= 2002), 'governor'] = 'Lincoln Almond'\n",
    "df.loc[(df['year'] >= 2000) & (df['year'] <= 2002), 'party'] = 'Republican'\n",
    "\n",
    "df.loc[(df['year'] >= 2003) & (df['year'] <= 2010), 'governor'] = 'Donald Carcieri'\n",
    "df.loc[(df['year'] >= 2003) & (df['year'] <= 2010), 'party'] = 'Republican'\n",
    "\n",
    "df.loc[(df['year'] >= 2011) & (df['year'] <= 2012), 'governor'] = 'Lincoln Chafee'\n",
    "df.loc[(df['year'] >= 2011) & (df['year'] <= 2012), 'party'] = 'Independent'\n",
    "\n",
    "df.loc[(df['year'] >= 2013) & (df['year'] <= 2014), 'governor'] = 'Lincoln Chafee'\n",
    "df.loc[(df['year'] >= 2013) & (df['year'] <= 2014), 'party'] = 'Democrat'\n",
    "\n",
    "df.loc[(df['year'] >= 2015) & (df['year'] <= 2019), 'governor'] = 'Gina Raimondo'\n",
    "df.loc[(df['year'] >= 2015) & (df['year'] <= 2019), 'party'] = 'Democrat'\n",
    "\n",
    "# save output file\n",
    "df.to_csv('./data/clean/executive_appointments_clean.csv', index=False)"
   ]
  }
 ],
 "metadata": {
  "kernelspec": {
   "display_name": "Python 3",
   "language": "python",
   "name": "python3"
  },
  "language_info": {
   "codemirror_mode": {
    "name": "ipython",
    "version": 3
   },
   "file_extension": ".py",
   "mimetype": "text/x-python",
   "name": "python",
   "nbconvert_exporter": "python",
   "pygments_lexer": "ipython3",
   "version": "3.6.5"
  }
 },
 "nbformat": 4,
 "nbformat_minor": 2
}
